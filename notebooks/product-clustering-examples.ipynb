{
 "cells": [
  {
   "cell_type": "markdown",
   "metadata": {},
   "source": [
    "# Get Data"
   ]
  },
  {
   "cell_type": "markdown",
   "metadata": {},
   "source": [
    "For the purposes of this introduction, we'll just use product data from Bed, Bath & Beyond and furthermore restrict it to a single category, kitchen electrics.  I chose KE because it's a decent size (3882 listed products) and has interesting name properties.  Since this is live code, we can obviously branch out and check other categories as the spirit moves us."
   ]
  },
  {
   "cell_type": "code",
   "execution_count": 15,
   "metadata": {
    "collapsed": false
   },
   "outputs": [
    {
     "name": "stdout",
     "output_type": "stream",
     "text": [
      "3882\n"
     ]
    }
   ],
   "source": [
    "import unicodecsv\n",
    "kitchenElectrics = []\n",
    "\n",
    "with open('bedbathbeyond_products.csv', 'rU') as bbb:\n",
    "    reader = unicodecsv.DictReader(bbb)\n",
    "    for r in reader:\n",
    "        try:\n",
    "            if r['CategoryName'] == u'KITCHEN ELECTRICS':\n",
    "                kitchenElectrics.append(r['Name'])\n",
    "        except TypeError:\n",
    "            print r\n",
    "            raise\n",
    "\n",
    "print len(kitchenElectrics)"
   ]
  },
  {
   "cell_type": "markdown",
   "metadata": {},
   "source": [
    "# Create TFIDF model and fit a KMeans Clusterer"
   ]
  },
  {
   "cell_type": "markdown",
   "metadata": {},
   "source": [
    "Follow the links for explanations of [TFIDF](http://en.wikipedia.org/wiki/Tf%E2%80%93idf) and [KMeans](http://en.wikipedia.org/wiki/K-means_clustering), or just ask!  There's a lot of complexity packed into a very few lines of code here, so we should spend some time going over it."
   ]
  },
  {
   "cell_type": "code",
   "execution_count": 34,
   "metadata": {
    "collapsed": false
   },
   "outputs": [],
   "source": [
    "from sklearn.feature_extraction.text import TfidfVectorizer\n",
    "from sklearn.cluster import KMeans\n",
    "\n",
    "bigram_tfidf_vectorizer = TfidfVectorizer(ngram_range=(1,2), token_pattern=r'\\b\\w+\\b')\n",
    "tfidf = bigram_tfidf_vectorizer.fit_transform(kitchenElectrics)\n",
    "\n",
    "clusterer = KMeans(n_clusters = 700, n_jobs = 4)\n",
    "predictions = clusterer.fit_predict(tfidf)"
   ]
  },
  {
   "cell_type": "markdown",
   "metadata": {},
   "source": [
    "# Inspect the Clusters"
   ]
  },
  {
   "cell_type": "markdown",
   "metadata": {},
   "source": [
    "Let's look over a few of the clusters and see if they make any sense."
   ]
  },
  {
   "cell_type": "code",
   "execution_count": 42,
   "metadata": {
    "collapsed": false,
    "scrolled": true
   },
   "outputs": [
    {
     "name": "stdout",
     "output_type": "stream",
     "text": [
      "0 : Hario V60 Coffee Drip Bouno Kettle\n",
      "0 : Hario V60 Pour-Over Kit\n",
      "0 : Hario Acrylic Stand with Drip Tray for V60 Coffee Dripper\n",
      "0 : Hario V60 Drip Decanter\n",
      "0 : Hario V60 Ceramic Coffee Dripper in White\n",
      "0 : Hario Filter Paper for 02 V60 Dripper\n",
      "0 : Hario Ceramic Coffee Mini Mill Grinder\n",
      "0 : Hario V60 Coffee Drip Scale/Timer\n",
      "1 : Oxo Good Grips 4-Cup French Press Coffee Maker in Stainless Steel\n",
      "1 : OXO Good Grips 8-Cup French Press Coffee Maker\n",
      "1 : Oxo Good Grips Replacement 4-Cup French Press Carafe\n",
      "1 : Oxo Good Grips Replacement 8-Cup French Press Carafe\n",
      "1 : OXO Good Grips 4-Cup French Press Coffee Maker\n",
      "1 : OXO Good Grips 8-Cup French Press Coffee Maker\n",
      "1 : OXO Good Grips Cold Brew Coffee Maker\n",
      "1 : OXO Good Grips Cold Brew Coffee Maker Paper Filters\n",
      "2 : Dualit 4-Slice NewGen Classic Toaster in Pink\n",
      "2 : Dualit 4-Slice NewGen Classic Toaster in Charcoal\n",
      "2 : Dualit 4-Slice NewGen Classic Toaster in Grey\n",
      "2 : Dualit 4-Slice Chrome Toaster\n",
      "2 : Dualit 4-Slice NewGen Classic Toaster in Light Blue\n",
      "2 : Dualit 4-Slice NewGen Classic Toaster in Yellow\n",
      "2 : Dualit 4-Slice NewGen Classic Toaster in Green\n",
      "2 : Dualit 4-Slice NewGen Classic Toaster in White\n",
      "2 : Dualit 4-Slice NewGen Classic Toaster in Red\n",
      "2 : Dualit 4-Slice NewGen Classic Toaster in Candy\n",
      "2 : Dualit 4-Slice NewGen Classic Toaster in Light Yellow\n",
      "2 : Dualit 4-Slice NewGen Classic Toaster in Light Pink\n",
      "3 : Zojirushi Fresh Brew Stainless Steel Thermal Carafe 10-Cup Coffee Maker\n",
      "3 : KitchenAid 10-Inch Counter Top Oven - Silver\n",
      "3 : KitchenAid 10-Inch Counter Top Oven in Black\n",
      "3 : Krups FMF 10-Cup Thermal Stainless Steel Replacement Carafe\n",
      "3 : KitchenAid 10-Cup Thermal Carafe KCM112OB Coffee Maker\n",
      "3 : Bunn Phase Brew 8-Cup Digital Coffee Brewer with Thermal Carafe\n",
      "3 : KitchenAid 10-Cup Thermal Carafe\n",
      "3 : aifi Juwel 8-Cup Chrome Plated Brass Thermal Carafe\n",
      "3 : Bonavita 8-Cup Coffee Brewer with Thermal Carafe\n",
      "4 : Nostalgia Electrics&trade; Carnival Kettle Corn Maker\n",
      "4 : Nostalgia Electrics Doughnut Hole Maker\n",
      "4 : Nostalgia Electrics&trade; Pigs- in -A-Blanket Appetizer Maker\n",
      "4 : Nostalgia Electrics&trade; Tortilla Bowl Maker\n",
      "4 : Nostalgia Electrics&trade; Mini Cupcake Maker Party Kit\n",
      "4 : Nostalgia Electrics&trade; Cream Filled Cupcake Maker\n",
      "4 : Nostalgia Electrics&trade; Mini Pie Bakery - 4 Pies\n",
      "4 : Nostalgia Electrics&trade; 2-in-1 Churros & Empanada Maker\n",
      "4 : Nostalgia Electrics&trade; Automatic Mini Doughnut Factory\n",
      "4 : Nostalgia Electrics&trade; Quesadilla Maker\n",
      "4 : Nostalgia Electrics&trade; Cake Pop and Donut Hole Bakery Kit\n",
      "4 : Babycakes Mini Donut Maker\n",
      "4 : Nostalgia Electrics&trade; Mini Donut Maker Kit\n",
      "4 : Nostalgia All League Slider Maker\n",
      "4 : Nostalgia Electrics&trade; Mini Donut Maker\n",
      "5 : Bodum Bistro 40 oz. Pour Over Electric Coffee Machine in White\n",
      "5 : Bodum Bistro 40 oz. Pour Over Electric Coffee Machine in Black\n",
      "5 : Bodum Bistro 40 oz. Pour Over Electric Coffee Machine in Green\n",
      "5 : Bodum Bistro 40 oz. Pour Over Electric Coffee Machine in Red\n",
      "6 : Cuisinart Power Advantage&trade; 5-Speed Hand Mixer in Watermelon Sorbet\n",
      "6 : Cuisinart Power Advantage&trade; 5-Speed Hand Mixer - Pink\n",
      "6 : Cuisinart Power Advantage&trade; 5-Speed Hand Mixer in Passion Flower\n",
      "6 : Cuisinart Power Advantage 5-Speed Hand Mixer\n",
      "6 : Cuisinart Power Advantage 5-Speed Hand Mixer\n",
      "6 : Cuisinart Power Advantage&trade; 5-Speed Hand Mixer in Key Lime Pie\n",
      "6 : Cuisinart Power Advantage&trade; 5-Speed Hand Mixer in Sugar Plum\n",
      "6 : Cuisinart Power Advantage 5-Speed Hand Mixer\n",
      "6 : Cuisinart Power Advantage&trade; 5-Speed Hand Mixer - Green\n",
      "6 : Cuisinart Power Advantage&trade; 5-Speed Hand Mixer - Blue\n",
      "6 : Cuisinart Power Advantage&trade; 5-Speed Hand Mixer - Yellow\n",
      "6 : Cuisinart Power Advantage&trade; 5-Speed Hand Mixer in Pink Champagne\n",
      "6 : Cuisinart Power Advantage&trade; 5-Speed Hand Mixer in Chocolate Cherry\n",
      "6 : Cuisinart Power Advantage 5-Speed Hand Mixer\n",
      "6 : Cuisinart Power Advantage 5-Speed Hand Mixer\n",
      "6 : Cuisinart Power Advantage&trade; Hand/Stand Mixer\n",
      "6 : Cuisinart Power Advantage&trade; 7-Speed Hand Mixer in White\n",
      "7 : Bodum Brazil 8-Cup French Press Coffee Maker - Orange\n",
      "7 : Bodum Brazil Red 8-Cup French Coffee Press\n",
      "7 : Bodum Chin Bistro 3-Cup French Press Coffee Maker\n",
      "7 : Bodum Brazil Black 8-Cup French Coffee Press\n",
      "7 : Bodum Brazil 3-Cup French Press Coffee Maker in Red\n",
      "7 : Bodum Brazil 3-Cup French Press Coffee Maker in Green\n",
      "7 : Bodum Brazil Green 8-Cup French Coffee Press\n",
      "7 : Bodum Brazil 3-Cup French Press Coffee Maker in Orange\n",
      "7 : Bodum Brazil 3-Cup French Press Coffee Maker in Black\n",
      "7 : Bialetti Simplicity 8-Cup French Press Coffee Maker\n",
      "8 : Jura Capresso Ultima Model 121.01 Espresso Machine\n",
      "8 : Krups Programmable Combination Model  XP2070 Espresso Machine and Coffee Maker\n",
      "8 : Jura Capresso Impressa F8 Automatic Espresso Machine and Coffee Center\n",
      "8 : Jura Capresso Impressa 13299 Model  Z6 Model  Automatic Espresso Machine and Coffee Center\n",
      "8 : Jura Capresso Impressa 13214 Model Z5 Automatic Espresso Machine and Coffee Center\n",
      "8 : Jura Capresso Impressa E8 Automatic Espresso & Coffee Center\n",
      "8 : Jura Capresso ENA 4 Model 13421 Automatic Espresso Machine and Coffee Center\n",
      "9 : Hamilton Beach 5-Quart Stay or Go Slow Cooker\n",
      "9 : Hamilton Beach Stay or Go 5-Quart Slow Cooker\n",
      "9 : Hamilton Beach Stay or Go&trade; Thermal Coffee Maker\n",
      "9 : Hamilton Beach Stay or Go Custom Pair&trade; Thermal Stainless Steel Coffee Maker\n",
      "9 : SLOW CK STAY/GO B/CH\n",
      "9 : Hamilton Beach Stay or Go&trade; Thermal Coffee Maker\n",
      "9 : Hamilton Beach Stay or Go 6-Quart Slow Cooker\n"
     ]
    }
   ],
   "source": [
    "def inspectClusters(predictions, products, numClusters = 10):\n",
    "    for j in range(numClusters):\n",
    "        for i in range(len(predictions)):\n",
    "            if predictions[i] ==j:\n",
    "                print '%d : %s' % (j, products[i])\n",
    "\n",
    "inspectClusters(predictions, kitchenElectrics)"
   ]
  },
  {
   "cell_type": "markdown",
   "metadata": {},
   "source": [
    "These aren't bad, but most of these clusters seem to fall along brand lines."
   ]
  },
  {
   "cell_type": "markdown",
   "metadata": {},
   "source": [
    "## Remember, the TFIDF model is _very_ highly dimensional"
   ]
  },
  {
   "cell_type": "code",
   "execution_count": 29,
   "metadata": {
    "collapsed": false
   },
   "outputs": [
    {
     "data": {
      "text/plain": [
       "(3882, 11544)"
      ]
     },
     "execution_count": 29,
     "metadata": {},
     "output_type": "execute_result"
    }
   ],
   "source": [
    "tfidf.shape"
   ]
  },
  {
   "cell_type": "markdown",
   "metadata": {},
   "source": [
    "It's operating on both single works and bigrams right now.  One thing we need to experiment with and test is the effect of K (and implicitly the size of the clusters) on downstream outcomes.  It's not inherently important that these clusters map to human intuition, but it would certainly be nice if that happened."
   ]
  },
  {
   "cell_type": "markdown",
   "metadata": {},
   "source": [
    "## Experiments with Stopwords and Brands"
   ]
  },
  {
   "cell_type": "code",
   "execution_count": 39,
   "metadata": {
    "collapsed": false
   },
   "outputs": [],
   "source": [
    "from nltk.corpus import stopwords\n",
    "import string\n",
    "\n",
    "stopset = set(stopwords.words('english'))\n",
    "stopset.update(string.punctuation)\n",
    "stopset.update([';', 'reg', '&', u';', u'&']) #for unicode"
   ]
  },
  {
   "cell_type": "markdown",
   "metadata": {},
   "source": [
    "This is a good default set of stopwords.  TFIDF controls for a lot of the effect of normal stopwords, but completely excluding them will make n-grams more useful.  Let's see what changes when we add stopwords to the vectorizer."
   ]
  },
  {
   "cell_type": "code",
   "execution_count": 41,
   "metadata": {
    "collapsed": false,
    "scrolled": true
   },
   "outputs": [
    {
     "name": "stdout",
     "output_type": "stream",
     "text": [
      "0 : Hario V60 Coffee Drip Bouno Kettle\n",
      "0 : Hario V60 Pour-Over Kit\n",
      "0 : Hario Acrylic Stand with Drip Tray for V60 Coffee Dripper\n",
      "0 : Hario V60 Drip Decanter\n",
      "0 : Hario V60 Ceramic Coffee Dripper in White\n",
      "0 : Hario Filter Paper for 02 V60 Dripper\n",
      "0 : Hario Ceramic Coffee Mini Mill Grinder\n",
      "0 : Hario V60 Coffee Drip Scale/Timer\n",
      "1 : Oxo Good Grips 4-Cup French Press Coffee Maker in Stainless Steel\n",
      "1 : OXO Good Grips 8-Cup French Press Coffee Maker\n",
      "1 : Oxo Good Grips Replacement 4-Cup French Press Carafe\n",
      "1 : Oxo Good Grips Replacement 8-Cup French Press Carafe\n",
      "1 : OXO Good Grips 4-Cup French Press Coffee Maker\n",
      "1 : OXO Good Grips 8-Cup French Press Coffee Maker\n",
      "1 : OXO Good Grips Cold Brew Coffee Maker\n",
      "1 : OXO Good Grips Cold Brew Coffee Maker Paper Filters\n",
      "2 : Dualit 4-Slice NewGen Classic Toaster in Pink\n",
      "2 : Dualit 4-Slice NewGen Classic Toaster in Charcoal\n",
      "2 : Dualit 4-Slice NewGen Classic Toaster in Grey\n",
      "2 : Dualit 4-Slice Chrome Toaster\n",
      "2 : Dualit 4-Slice NewGen Classic Toaster in Light Blue\n",
      "2 : Dualit 4-Slice NewGen Classic Toaster in Yellow\n",
      "2 : Dualit 4-Slice NewGen Classic Toaster in Green\n",
      "2 : Dualit 4-Slice NewGen Classic Toaster in White\n",
      "2 : Dualit 4-Slice NewGen Classic Toaster in Red\n",
      "2 : Dualit 4-Slice NewGen Classic Toaster in Candy\n",
      "2 : Dualit 4-Slice NewGen Classic Toaster in Light Yellow\n",
      "2 : Dualit 4-Slice NewGen Classic Toaster in Light Pink\n",
      "3 : Zojirushi Fresh Brew Stainless Steel Thermal Carafe 10-Cup Coffee Maker\n",
      "3 : KitchenAid 10-Inch Counter Top Oven - Silver\n",
      "3 : KitchenAid 10-Inch Counter Top Oven in Black\n",
      "3 : Krups FMF 10-Cup Thermal Stainless Steel Replacement Carafe\n",
      "3 : KitchenAid 10-Cup Thermal Carafe KCM112OB Coffee Maker\n",
      "3 : Bunn Phase Brew 8-Cup Digital Coffee Brewer with Thermal Carafe\n",
      "3 : KitchenAid 10-Cup Thermal Carafe\n",
      "3 : aifi Juwel 8-Cup Chrome Plated Brass Thermal Carafe\n",
      "3 : Bonavita 8-Cup Coffee Brewer with Thermal Carafe\n",
      "4 : Nostalgia Electrics&trade; Carnival Kettle Corn Maker\n",
      "4 : Nostalgia Electrics Doughnut Hole Maker\n",
      "4 : Nostalgia Electrics&trade; Pigs- in -A-Blanket Appetizer Maker\n",
      "4 : Nostalgia Electrics&trade; Tortilla Bowl Maker\n",
      "4 : Nostalgia Electrics&trade; Mini Cupcake Maker Party Kit\n",
      "4 : Nostalgia Electrics&trade; Cream Filled Cupcake Maker\n",
      "4 : Nostalgia Electrics&trade; Mini Pie Bakery - 4 Pies\n",
      "4 : Nostalgia Electrics&trade; 2-in-1 Churros & Empanada Maker\n",
      "4 : Nostalgia Electrics&trade; Automatic Mini Doughnut Factory\n",
      "4 : Nostalgia Electrics&trade; Quesadilla Maker\n",
      "4 : Nostalgia Electrics&trade; Cake Pop and Donut Hole Bakery Kit\n",
      "4 : Babycakes Mini Donut Maker\n",
      "4 : Nostalgia Electrics&trade; Mini Donut Maker Kit\n",
      "4 : Nostalgia All League Slider Maker\n",
      "4 : Nostalgia Electrics&trade; Mini Donut Maker\n",
      "5 : Bodum Bistro 40 oz. Pour Over Electric Coffee Machine in White\n",
      "5 : Bodum Bistro 40 oz. Pour Over Electric Coffee Machine in Black\n",
      "5 : Bodum Bistro 40 oz. Pour Over Electric Coffee Machine in Green\n",
      "5 : Bodum Bistro 40 oz. Pour Over Electric Coffee Machine in Red\n",
      "6 : Cuisinart Power Advantage&trade; 5-Speed Hand Mixer in Watermelon Sorbet\n",
      "6 : Cuisinart Power Advantage&trade; 5-Speed Hand Mixer - Pink\n",
      "6 : Cuisinart Power Advantage&trade; 5-Speed Hand Mixer in Passion Flower\n",
      "6 : Cuisinart Power Advantage 5-Speed Hand Mixer\n",
      "6 : Cuisinart Power Advantage 5-Speed Hand Mixer\n",
      "6 : Cuisinart Power Advantage&trade; 5-Speed Hand Mixer in Key Lime Pie\n",
      "6 : Cuisinart Power Advantage&trade; 5-Speed Hand Mixer in Sugar Plum\n",
      "6 : Cuisinart Power Advantage 5-Speed Hand Mixer\n",
      "6 : Cuisinart Power Advantage&trade; 5-Speed Hand Mixer - Green\n",
      "6 : Cuisinart Power Advantage&trade; 5-Speed Hand Mixer - Blue\n",
      "6 : Cuisinart Power Advantage&trade; 5-Speed Hand Mixer - Yellow\n",
      "6 : Cuisinart Power Advantage&trade; 5-Speed Hand Mixer in Pink Champagne\n",
      "6 : Cuisinart Power Advantage&trade; 5-Speed Hand Mixer in Chocolate Cherry\n",
      "6 : Cuisinart Power Advantage 5-Speed Hand Mixer\n",
      "6 : Cuisinart Power Advantage 5-Speed Hand Mixer\n",
      "6 : Cuisinart Power Advantage&trade; Hand/Stand Mixer\n",
      "6 : Cuisinart Power Advantage&trade; 7-Speed Hand Mixer in White\n",
      "7 : Bodum Brazil 8-Cup French Press Coffee Maker - Orange\n",
      "7 : Bodum Brazil Red 8-Cup French Coffee Press\n",
      "7 : Bodum Chin Bistro 3-Cup French Press Coffee Maker\n",
      "7 : Bodum Brazil Black 8-Cup French Coffee Press\n",
      "7 : Bodum Brazil 3-Cup French Press Coffee Maker in Red\n",
      "7 : Bodum Brazil 3-Cup French Press Coffee Maker in Green\n",
      "7 : Bodum Brazil Green 8-Cup French Coffee Press\n",
      "7 : Bodum Brazil 3-Cup French Press Coffee Maker in Orange\n",
      "7 : Bodum Brazil 3-Cup French Press Coffee Maker in Black\n",
      "7 : Bialetti Simplicity 8-Cup French Press Coffee Maker\n",
      "8 : Jura Capresso Ultima Model 121.01 Espresso Machine\n",
      "8 : Krups Programmable Combination Model  XP2070 Espresso Machine and Coffee Maker\n",
      "8 : Jura Capresso Impressa F8 Automatic Espresso Machine and Coffee Center\n",
      "8 : Jura Capresso Impressa 13299 Model  Z6 Model  Automatic Espresso Machine and Coffee Center\n",
      "8 : Jura Capresso Impressa 13214 Model Z5 Automatic Espresso Machine and Coffee Center\n",
      "8 : Jura Capresso Impressa E8 Automatic Espresso & Coffee Center\n",
      "8 : Jura Capresso ENA 4 Model 13421 Automatic Espresso Machine and Coffee Center\n",
      "9 : Hamilton Beach 5-Quart Stay or Go Slow Cooker\n",
      "9 : Hamilton Beach Stay or Go 5-Quart Slow Cooker\n",
      "9 : Hamilton Beach Stay or Go&trade; Thermal Coffee Maker\n",
      "9 : Hamilton Beach Stay or Go Custom Pair&trade; Thermal Stainless Steel Coffee Maker\n",
      "9 : SLOW CK STAY/GO B/CH\n",
      "9 : Hamilton Beach Stay or Go&trade; Thermal Coffee Maker\n",
      "9 : Hamilton Beach Stay or Go 6-Quart Slow Cooker\n"
     ]
    }
   ],
   "source": [
    "bigram_tfidf_vectorizer = TfidfVectorizer(ngram_range=(1,2), token_pattern=r'\\b\\w+\\b', stop_words=stopset)\n",
    "\n",
    "tfidf = bigram_tfidf_vectorizer.fit_transform(kitchenElectrics)\n",
    "\n",
    "clusterer = KMeans(n_clusters = 700, n_jobs = 4)\n",
    "predictions = clusterer.fit_predict(tfidf)\n",
    "\n",
    "inspectClusters(predictions, kitchenElectrics)"
   ]
  },
  {
   "cell_type": "markdown",
   "metadata": {},
   "source": [
    "The clusters have changed (though they'll naturally change every time we run it), but are they much better?  Though this is too small a sample to make any sweeping proclamations, it seems possible that the effect of brand names has become stronger.\n",
    "\n",
    "Should we remove brand names?  If so, how should we go about it?"
   ]
  }
 ],
 "metadata": {
  "kernelspec": {
   "display_name": "Python 2",
   "language": "python",
   "name": "python2"
  },
  "language_info": {
   "codemirror_mode": {
    "name": "ipython",
    "version": 2
   },
   "file_extension": ".py",
   "mimetype": "text/x-python",
   "name": "python",
   "nbconvert_exporter": "python",
   "pygments_lexer": "ipython2",
   "version": "2.7.2"
  }
 },
 "nbformat": 4,
 "nbformat_minor": 0
}
