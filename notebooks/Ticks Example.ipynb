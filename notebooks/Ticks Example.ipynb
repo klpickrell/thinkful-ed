{
 "cells": [
  {
   "cell_type": "code",
   "execution_count": 11,
   "metadata": {},
   "outputs": [
    {
     "data": {
      "image/png": "[encoded data removed]",
      "text/plain": [
       "<matplotlib.figure.Figure at 0x112e8be10>"
      ]
     },
     "metadata": {},
     "output_type": "display_data"
    }
   ],
   "source": [
    "%matplotlib inline\n",
    "import numpy as np\n",
    "import matplotlib.pyplot as plt\n",
    "x = np.random.normal(0,10,1000)  # 1000 gaussian samples of mean 0, sigma 10\n",
    "m,xv = np.histogram(x)   # you can call m,xv,p = plt.hist(x) in one pass, but I broke it out here for clarity\n",
    "# now m is going to be the y values or mass, xv is one of the binned values from your distribution\n",
    "plt.hist(x)\n",
    "plt.yticks(np.arange(0,max(m),20.0))  # explicitly set the range from 0, to max(m) with a step size of 20\n",
    "plt.xticks(np.arange(min(xv)-10.0,max(xv)+10.0, 20.0))  # same for the x values\n",
    "plt.show()"
   ]
  },
  {
   "cell_type": "code",
   "execution_count": null,
   "metadata": {
    "collapsed": true
   },
   "outputs": [],
   "source": []
  }
 ],
 "metadata": {
  "kernelspec": {
   "display_name": "Python 2",
   "language": "python",
   "name": "python2"
  },
  "language_info": {
   "codemirror_mode": {
    "name": "ipython",
    "version": 2
   },
   "file_extension": ".py",
   "mimetype": "text/x-python",
   "name": "python",
   "nbconvert_exporter": "python",
   "pygments_lexer": "ipython2",
   "version": "2.7.14"
  }
 },
 "nbformat": 4,
 "nbformat_minor": 2
}
