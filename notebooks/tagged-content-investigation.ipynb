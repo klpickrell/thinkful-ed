{
 "cells": [
  {
   "cell_type": "markdown",
   "metadata": {},
   "source": [
    "# Mining Tools - Data Science\n",
    "\n",
    "I particularly like the word _mining_ as it refers to extracting valuable things from data, as it describes the process so well.  It captures not only the idea that you are looking for small bits of valuable things in a mountain of useless rock (or data), but also the danger and confusion of being trapped in a mineshaft.\n",
    "\n",
    "Consider the following spreadsheet:\n",
    "\n",
    "![spreadsheet](images/samplesheet.png \"Sample Sheet\")\n",
    "\n",
    "\n",
    "It looks like the _workbook_ is organized into _worksheets_: `Ceremony/Reception Scene, Other Details, Flowers, Cakes/Desserts, Place Setting/Table`.  This is all fairly reasonable.  The remaining two sheets appear to be either empty or contain the union of the data in these sheets, so let's just skip them. First, I'll save all of the worksheets to a csv in a directory somewhere and load them into python. We'll just pick the `Cakes/Desserts` csv to work with since they seem to be formatted similarly. There are a few ways we could do this, but I recommend getting comfortable using pandas. pandas is like a swiss army knife for working with tabular data in python. We import pandas as pd because that's the unspoken law of the land."
   ]
  },
  {
   "cell_type": "code",
   "execution_count": 265,
   "metadata": {},
   "outputs": [
    {
     "data": {
      "text/plain": [
       "Index([u'Image', u'Title', u'Body Copy', u'TBL Studio Link',\n",
       "       u'Editorial Feedback', u'Published tags', u'Writer',\n",
       "       u'Auto-Extracted Concepts', u'Suggested Revision Front End Tags',\n",
       "       u'Suggested Revision Back End Tags', u'Other related tags',\n",
       "       u'Other Notes', u'url_slug', u'Image Location',\n",
       "       u'TBL Image S3 Location'],\n",
       "      dtype='object')"
      ]
     },
     "execution_count": 265,
     "metadata": {},
     "output_type": "execute_result"
    }
   ],
   "source": [
    "import pandas as pd\n",
    "df = pd.read_csv('data/cakes.csv')\n",
    "df.keys()"
   ]
  },
  {
   "cell_type": "markdown",
   "metadata": {},
   "source": [
    "We could have (and may) read the csv with no headers so we can deal with integer indexing by adding `header=None`.  Also, we can read in the whole workbook and deal with it that way if you install a package called `xlrd`."
   ]
  },
  {
   "cell_type": "code",
   "execution_count": 266,
   "metadata": {},
   "outputs": [
    {
     "data": {
      "text/plain": [
       "[u'CeremonyReception Scene',\n",
       " u'Other Details',\n",
       " u'Flowers',\n",
       " u'CakesDesserts',\n",
       " u'Place SettingTable',\n",
       " u'Template',\n",
       " u'Extraction']"
      ]
     },
     "execution_count": 266,
     "metadata": {},
     "output_type": "execute_result"
    }
   ],
   "source": [
    "xlsx = pd.ExcelFile('data/curious_workbook.xlsx')\n",
    "xlsx.sheet_names"
   ]
  },
  {
   "cell_type": "markdown",
   "metadata": {},
   "source": [
    "It looks like the names got munged a bit, but we can figure it out.  Let's grab the one with _cakes_ and load it into a pandas _DataFrame_.."
   ]
  },
  {
   "cell_type": "code",
   "execution_count": 267,
   "metadata": {},
   "outputs": [
    {
     "data": {
      "text/plain": [
       "Index([u'Image', u'Title', u'Body Copy', u'TBL Studio Link',\n",
       "       u'Editorial Feedback', u'Published tags', u'Writer',\n",
       "       u'Auto-Extracted Concepts', u'Suggested Revision Front End Tags',\n",
       "       u'Suggested Revision Back End Tags', u'Other related tags',\n",
       "       u'Other Notes', u'url_slug', u'Image Location',\n",
       "       u'TBL Image S3 Location'],\n",
       "      dtype='object')"
      ]
     },
     "execution_count": 267,
     "metadata": {},
     "output_type": "execute_result"
    }
   ],
   "source": [
    "df = pd.read_excel(xlsx, 'CakesDesserts')\n",
    "df.keys()"
   ]
  },
  {
   "cell_type": "markdown",
   "metadata": {},
   "source": [
    "That's good.  You can also reference _df.columns_, but it literally returns the same exact thing. pandas has lots of types but typically we deal with either a _Series_, which is a row in a table, or a _DataFrame_, which is the table.  pandas has some nice was to inspect the data you load into a _DataFrame_.  Let's take a look at our sheet with pandas:"
   ]
  },
  {
   "cell_type": "code",
   "execution_count": 268,
   "metadata": {},
   "outputs": [
    {
     "data": {
      "text/plain": [
       "Image                                 0\n",
       "Title                                27\n",
       "Body Copy                            27\n",
       "TBL Studio Link                      27\n",
       "Editorial Feedback                   12\n",
       "Published tags                       27\n",
       "Writer                               24\n",
       "Auto-Extracted Concepts              27\n",
       "Suggested Revision Front End Tags    27\n",
       "Suggested Revision Back End Tags     27\n",
       "Other related tags                    0\n",
       "Other Notes                           2\n",
       "url_slug                             27\n",
       "Image Location                       27\n",
       "TBL Image S3 Location                 0\n",
       "dtype: int64"
      ]
     },
     "execution_count": 268,
     "metadata": {},
     "output_type": "execute_result"
    }
   ],
   "source": [
    "df.count()"
   ]
  },
  {
   "cell_type": "markdown",
   "metadata": {},
   "source": [
    "It looks like we've got something like 27 rows with some empty cells.  We can confirm this by checking the length:"
   ]
  },
  {
   "cell_type": "code",
   "execution_count": 269,
   "metadata": {},
   "outputs": [
    {
     "data": {
      "text/plain": [
       "27"
      ]
     },
     "execution_count": 269,
     "metadata": {},
     "output_type": "execute_result"
    }
   ],
   "source": [
    "len(df)"
   ]
  },
  {
   "cell_type": "markdown",
   "metadata": {},
   "source": [
    "We can also get some summary statistics, though it isn't incredibly useful right now."
   ]
  },
  {
   "cell_type": "code",
   "execution_count": 270,
   "metadata": {},
   "outputs": [
    {
     "data": {
      "text/html": [
       "<div>\n",
       "<table border=\"1\" class=\"dataframe\">\n",
       "  <thead>\n",
       "    <tr style=\"text-align: right;\">\n",
       "      <th></th>\n",
       "      <th>Image</th>\n",
       "      <th>Other related tags</th>\n",
       "      <th>TBL Image S3 Location</th>\n",
       "    </tr>\n",
       "  </thead>\n",
       "  <tbody>\n",
       "    <tr>\n",
       "      <th>count</th>\n",
       "      <td>0.0</td>\n",
       "      <td>0.0</td>\n",
       "      <td>0.0</td>\n",
       "    </tr>\n",
       "    <tr>\n",
       "      <th>mean</th>\n",
       "      <td>NaN</td>\n",
       "      <td>NaN</td>\n",
       "      <td>NaN</td>\n",
       "    </tr>\n",
       "    <tr>\n",
       "      <th>std</th>\n",
       "      <td>NaN</td>\n",
       "      <td>NaN</td>\n",
       "      <td>NaN</td>\n",
       "    </tr>\n",
       "    <tr>\n",
       "      <th>min</th>\n",
       "      <td>NaN</td>\n",
       "      <td>NaN</td>\n",
       "      <td>NaN</td>\n",
       "    </tr>\n",
       "    <tr>\n",
       "      <th>25%</th>\n",
       "      <td>NaN</td>\n",
       "      <td>NaN</td>\n",
       "      <td>NaN</td>\n",
       "    </tr>\n",
       "    <tr>\n",
       "      <th>50%</th>\n",
       "      <td>NaN</td>\n",
       "      <td>NaN</td>\n",
       "      <td>NaN</td>\n",
       "    </tr>\n",
       "    <tr>\n",
       "      <th>75%</th>\n",
       "      <td>NaN</td>\n",
       "      <td>NaN</td>\n",
       "      <td>NaN</td>\n",
       "    </tr>\n",
       "    <tr>\n",
       "      <th>max</th>\n",
       "      <td>NaN</td>\n",
       "      <td>NaN</td>\n",
       "      <td>NaN</td>\n",
       "    </tr>\n",
       "  </tbody>\n",
       "</table>\n",
       "</div>"
      ],
      "text/plain": [
       "       Image  Other related tags  TBL Image S3 Location\n",
       "count    0.0                 0.0                    0.0\n",
       "mean     NaN                 NaN                    NaN\n",
       "std      NaN                 NaN                    NaN\n",
       "min      NaN                 NaN                    NaN\n",
       "25%      NaN                 NaN                    NaN\n",
       "50%      NaN                 NaN                    NaN\n",
       "75%      NaN                 NaN                    NaN\n",
       "max      NaN                 NaN                    NaN"
      ]
     },
     "execution_count": 270,
     "metadata": {},
     "output_type": "execute_result"
    }
   ],
   "source": [
    "df.describe()"
   ]
  },
  {
   "cell_type": "markdown",
   "metadata": {},
   "source": [
    "That's especially cool, but not useful at the moment as we have mostly non-numeric things to work with. But let's keep this one in mind for later.  To see what types we have to work with, let's use `info()`:"
   ]
  },
  {
   "cell_type": "code",
   "execution_count": 271,
   "metadata": {},
   "outputs": [
    {
     "name": "stdout",
     "output_type": "stream",
     "text": [
      "<class 'pandas.core.frame.DataFrame'>\n",
      "RangeIndex: 27 entries, 0 to 26\n",
      "Data columns (total 15 columns):\n",
      "Image                                0 non-null float64\n",
      "Title                                27 non-null object\n",
      "Body Copy                            27 non-null object\n",
      "TBL Studio Link                      27 non-null object\n",
      "Editorial Feedback                   12 non-null object\n",
      "Published tags                       27 non-null object\n",
      "Writer                               24 non-null object\n",
      "Auto-Extracted Concepts              27 non-null object\n",
      "Suggested Revision Front End Tags    27 non-null object\n",
      "Suggested Revision Back End Tags     27 non-null object\n",
      "Other related tags                   0 non-null float64\n",
      "Other Notes                          2 non-null object\n",
      "url_slug                             27 non-null object\n",
      "Image Location                       27 non-null object\n",
      "TBL Image S3 Location                0 non-null float64\n",
      "dtypes: float64(3), object(12)\n",
      "memory usage: 3.2+ KB\n"
     ]
    }
   ],
   "source": [
    "df.info()"
   ]
  },
  {
   "cell_type": "markdown",
   "metadata": {},
   "source": [
    "Let's take a look at one of the rows to see what these things mean:"
   ]
  },
  {
   "cell_type": "code",
   "execution_count": 272,
   "metadata": {},
   "outputs": [
    {
     "data": {
      "text/plain": [
       "Image                                                                              NaN\n",
       "Title                                         Four-Tier Fondant Snowflake Wedding Cake\n",
       "Body Copy                            Erica and Janson left no detail unnoticed, inc...\n",
       "TBL Studio Link                      http://twobrightlights.com/publication_studio/...\n",
       "Editorial Feedback                   The backdrop makes this cake rustic, but ultim...\n",
       "Published tags                                                  2: snow, wedding cakes\n",
       "Writer                                                                 Libby MacCarthy\n",
       "Auto-Extracted Concepts              \"additional_terms\" : [\\n\\t\\t\"bride\",\\n\\t\\t\"ivo...\n",
       "Suggested Revision Front End Tags    wedding cakes, round cakes, white, whimsical, ...\n",
       "Suggested Revision Back End Tags                        rustic, wood, candles, roses, \n",
       "Other related tags                                                                 NaN\n",
       "Other Notes                                                                        NaN\n",
       "url_slug                             https://www.theknot.com/real-weddings/four-tie...\n",
       "Image Location                       https://apis.xogrp.com/media-api/images/0b840d...\n",
       "TBL Image S3 Location                                                              NaN\n",
       "Name: 0, dtype: object"
      ]
     },
     "execution_count": 272,
     "metadata": {},
     "output_type": "execute_result"
    }
   ],
   "source": [
    "df.loc[0]"
   ]
  },
  {
   "cell_type": "markdown",
   "metadata": {},
   "source": [
    "It is certainly possible to investigate the image data, but I'll do that in another write-up.  Let's focus in on the textual information we can glean.  I've identified the following categories for investigation: _Title_, _Body Copy_, _Editorial Feedback_, _Published tags_, _Auto-Extracted Concepts_, _Suggested Revision Front End Tags_, and _Suggested Revision Back End Tags_.  I'll grab the indices and store them off for projection:"
   ]
  },
  {
   "cell_type": "code",
   "execution_count": 273,
   "metadata": {},
   "outputs": [
    {
     "name": "stdout",
     "output_type": "stream",
     "text": [
      "(0, u'Image')\n",
      "(1, u'Title')\n",
      "(2, u'Body Copy')\n",
      "(3, u'TBL Studio Link')\n",
      "(4, u'Editorial Feedback')\n",
      "(5, u'Published tags')\n",
      "(6, u'Writer')\n",
      "(7, u'Auto-Extracted Concepts')\n",
      "(8, u'Suggested Revision Front End Tags')\n",
      "(9, u'Suggested Revision Back End Tags')\n",
      "(10, u'Other related tags')\n",
      "(11, u'Other Notes')\n",
      "(12, u'url_slug')\n",
      "(13, u'Image Location')\n",
      "(14, u'TBL Image S3 Location')\n"
     ]
    }
   ],
   "source": [
    "from __future__ import print_function\n",
    "res = map( lambda x: print(x), enumerate(df.columns) )"
   ]
  },
  {
   "cell_type": "code",
   "execution_count": 274,
   "metadata": {},
   "outputs": [
    {
     "data": {
      "text/html": [
       "<div>\n",
       "<table border=\"1\" class=\"dataframe\">\n",
       "  <thead>\n",
       "    <tr style=\"text-align: right;\">\n",
       "      <th></th>\n",
       "      <th>Title</th>\n",
       "      <th>Body Copy</th>\n",
       "      <th>Editorial Feedback</th>\n",
       "      <th>Published tags</th>\n",
       "      <th>Auto-Extracted Concepts</th>\n",
       "      <th>Suggested Revision Front End Tags</th>\n",
       "      <th>Suggested Revision Back End Tags</th>\n",
       "    </tr>\n",
       "  </thead>\n",
       "  <tbody>\n",
       "    <tr>\n",
       "      <th>0</th>\n",
       "      <td>Four-Tier Fondant Snowflake Wedding Cake</td>\n",
       "      <td>Erica and Janson left no detail unnoticed, inc...</td>\n",
       "      <td>The backdrop makes this cake rustic, but ultim...</td>\n",
       "      <td>2: snow, wedding cakes</td>\n",
       "      <td>\"additional_terms\" : [\\n\\t\\t\"bride\",\\n\\t\\t\"ivo...</td>\n",
       "      <td>wedding cakes, round cakes, white, whimsical, ...</td>\n",
       "      <td>rustic, wood, candles, roses,</td>\n",
       "    </tr>\n",
       "    <tr>\n",
       "      <th>1</th>\n",
       "      <td>Custom-Made Flower Topper</td>\n",
       "      <td>A white fondant four-tier cake made by Ambrosi...</td>\n",
       "      <td>I wouldn't state this belongs primarily to one...</td>\n",
       "      <td>2:  Wedding Cakes   Cake Flowers</td>\n",
       "      <td>\"additional_terms\" : [\\n\\t\\t\"flower\",\\n\\t\\t\"de...</td>\n",
       "      <td>wedding cakes, round cakes, white, green,  gar...</td>\n",
       "      <td>cake applique, emerald green, greenery, wood, ...</td>\n",
       "    </tr>\n",
       "    <tr>\n",
       "      <th>2</th>\n",
       "      <td>Whimsical Naked Cake</td>\n",
       "      <td>In honor of their shared love of the TV show “...</td>\n",
       "      <td>Eclectic + Rustic + Romantic: the cake topper ...</td>\n",
       "      <td>5: Fuchsia   Wedding Cakes   Bohemian   Rustic...</td>\n",
       "      <td>\\t\"additional_terms\" : [\\n\\t\\t\"anniversary\",\\n...</td>\n",
       "      <td>wedding cakes, round cakes, naked + transulcen...</td>\n",
       "      <td>casual, dahlias, ranunculus, greenery, romanti...</td>\n",
       "    </tr>\n",
       "    <tr>\n",
       "      <th>3</th>\n",
       "      <td>Simple White Wedding Cake With Orange and Red ...</td>\n",
       "      <td>Karin and Ben's wedding cake from Crisp Bake S...</td>\n",
       "      <td>missing rustic, simple</td>\n",
       "      <td>4:  Orange   Red   Wedding Cakes   Cake Flowers</td>\n",
       "      <td>\\t\"additional_terms\" : [\\n\\t\\t\"day's\",\\n\\t\\t\"p...</td>\n",
       "      <td>simple, wedding cakes, round cakes, white, ear...</td>\n",
       "      <td>affordable, casual, fruit, wood, ferns, bright...</td>\n",
       "    </tr>\n",
       "    <tr>\n",
       "      <th>4</th>\n",
       "      <td>Simple Wedding Cake and Dessert Table</td>\n",
       "      <td>Paso Robles' Paper Cake Events created the cou...</td>\n",
       "      <td>Cake is very boho, especially with the cake st...</td>\n",
       "      <td>5:  Burgundy   Desserts   Wedding Cakes   Bohe...</td>\n",
       "      <td>\\n\\t\"additional_terms\" : [\\n\\t\\t\"events\",\\n\\t...</td>\n",
       "      <td>bohemian, wedding cakes, cakes + desserts, cak...</td>\n",
       "      <td>naked + translucent cakes, dahlia, garden rose...</td>\n",
       "    </tr>\n",
       "  </tbody>\n",
       "</table>\n",
       "</div>"
      ],
      "text/plain": [
       "                                               Title  \\\n",
       "0           Four-Tier Fondant Snowflake Wedding Cake   \n",
       "1                          Custom-Made Flower Topper   \n",
       "2                               Whimsical Naked Cake   \n",
       "3  Simple White Wedding Cake With Orange and Red ...   \n",
       "4              Simple Wedding Cake and Dessert Table   \n",
       "\n",
       "                                           Body Copy  \\\n",
       "0  Erica and Janson left no detail unnoticed, inc...   \n",
       "1  A white fondant four-tier cake made by Ambrosi...   \n",
       "2  In honor of their shared love of the TV show “...   \n",
       "3  Karin and Ben's wedding cake from Crisp Bake S...   \n",
       "4  Paso Robles' Paper Cake Events created the cou...   \n",
       "\n",
       "                                  Editorial Feedback  \\\n",
       "0  The backdrop makes this cake rustic, but ultim...   \n",
       "1  I wouldn't state this belongs primarily to one...   \n",
       "2  Eclectic + Rustic + Romantic: the cake topper ...   \n",
       "3                             missing rustic, simple   \n",
       "4  Cake is very boho, especially with the cake st...   \n",
       "\n",
       "                                      Published tags  \\\n",
       "0                             2: snow, wedding cakes   \n",
       "1                   2:  Wedding Cakes   Cake Flowers   \n",
       "2  5: Fuchsia   Wedding Cakes   Bohemian   Rustic...   \n",
       "3    4:  Orange   Red   Wedding Cakes   Cake Flowers   \n",
       "4  5:  Burgundy   Desserts   Wedding Cakes   Bohe...   \n",
       "\n",
       "                             Auto-Extracted Concepts  \\\n",
       "0  \"additional_terms\" : [\\n\\t\\t\"bride\",\\n\\t\\t\"ivo...   \n",
       "1  \"additional_terms\" : [\\n\\t\\t\"flower\",\\n\\t\\t\"de...   \n",
       "2  \\t\"additional_terms\" : [\\n\\t\\t\"anniversary\",\\n...   \n",
       "3  \\t\"additional_terms\" : [\\n\\t\\t\"day's\",\\n\\t\\t\"p...   \n",
       "4   \\n\\t\"additional_terms\" : [\\n\\t\\t\"events\",\\n\\t...   \n",
       "\n",
       "                   Suggested Revision Front End Tags  \\\n",
       "0  wedding cakes, round cakes, white, whimsical, ...   \n",
       "1  wedding cakes, round cakes, white, green,  gar...   \n",
       "2  wedding cakes, round cakes, naked + transulcen...   \n",
       "3  simple, wedding cakes, round cakes, white, ear...   \n",
       "4  bohemian, wedding cakes, cakes + desserts, cak...   \n",
       "\n",
       "                    Suggested Revision Back End Tags  \n",
       "0                     rustic, wood, candles, roses,   \n",
       "1  cake applique, emerald green, greenery, wood, ...  \n",
       "2  casual, dahlias, ranunculus, greenery, romanti...  \n",
       "3  affordable, casual, fruit, wood, ferns, bright...  \n",
       "4  naked + translucent cakes, dahlia, garden rose...  "
      ]
     },
     "execution_count": 274,
     "metadata": {},
     "output_type": "execute_result"
    }
   ],
   "source": [
    "focus = [ 1, 2, 4, 5, 7, 8, 9 ]\n",
    "df.iloc[:,focus].head()"
   ]
  },
  {
   "cell_type": "markdown",
   "metadata": {},
   "source": [
    "This is starting to look like something we can deal with now.  Now let's take a step back and start generating some questions to be asked of this slice of our data. I like to start from the ground up (at some elevation) to make sure I don't miss anything obvious and also to question my presumptions about things.  In general, I find that most tasks in life can be broken up into _strategy_ (am I doing the *right* things) and _execution_ (am I doing things *well*).  The degree to which errors in any one of these two affects the outcome depends on the domain.  For example, perfect execution of a slightly wrong strategy in chess is probably forgivable and you probably won't lose.  However, perfect execution of an advertising campaign in a completely wrong market chosen by a slightly misguided strategy will make you lose money.  In most cases, picking the wrong strategy is more harmful than a slight misstep in execution.  So let's make sure we're on the right track and our premises are correct. Back to our data...\n",
    "\n",
    "Each row in the data represents an image with some related descriptive terms.  These are our columns.  You can think of each column as a very condensed summary of the image with a certain flair.  If I asked you to draw the image using the words _Four-Tier Fondant Snowflake Wedding Cake_, you probably wouldn't get it exactly, but you wouldn't draw a picture of an elephant either.  The same goes with every other column.  In this way, our columns give us a very limited amount of information; it's a slice of information, about the image itself.  Data scientists think of these _slices_ in a very similar way to the way we think about a very thin slice of an apple:  they are two-dimensional slices of a three-dimensional object.  You can learn a lot about the shape of an apple from just a 2d slice, depending on where the slice was taken.  If you have more and more slices, eventually you can reproduce the apple. Continuing with the analogy, if I gave you a knife and said \"Here, cut a slice.\" and I took a different knife and cut a different slice, the slices would be different, right?  Another way of saying this is that there would be _variation_ or _variance_ in both of our slices.  Can we still reproduce the apple if our slices are different?  Sure.  One other thing, let's say we don't have the original apple, but we have a big chunk of a particular apple that someone handed us.  Then, we started slicing that one.  When we put our slices together, do you think we could reproduce the chunk?  What about reproducing the original apple?  \n",
    "\n",
    "Our images themselves aren't the original apple, in this analogy.  They are a lower-dimensional projection of a point in space and time taken by a camera.  How many dimensions?  Well, we are capturing the x and y position of the pixel, as well as the red, green, and blue, and maybe even an alpha color value.  And now you say, \"But wait.  That's 5 dimensions and the world is 3d, 4d if you are considering time. And you said we are moving from a highly-dimensional space to a lower-dimensional projection.\"  Ok.  But while position and time can describe every object, does it describe everything about the object?  What's the color, for example?  The point of all this is that what we are always dealing with lower-dimensional projections of highly-dimensional data, so it helps to get used to the idea of thinking about the attributes of objects existing as a point along some dimension.  When we add up all these points, we can get a better picture of the thing we are dealing with.\n",
    "\n",
    "So, let's think about the _Title_ for a moment.  The title is a set of words that describe a picture.  We can think of a single title as a single point in the space of all language used for the titles.  Even this is a tremendously high-dimensional space because we not only have the words, we also have grammar rules.  If one photo was titled \"Dog bites man\" and another was titled \"Man bites dog\", the words are the same but the meaning is different, for example, because of the rules of english grammar.  Let's simplify this considerably by using something called a _Bag of Words_ model.  This means we throw all the words into a bag, shake them up, and what's in the bag is what describes the image.  This is sometimes called a _multiset_, like a set where duplicates are allowed or counted.\n",
    "\n",
    "In fact, this line of reasoning works for all of the columns, just with a much lower-dimensional space for some of them, namely the tags.  Maybe a more reasonable starting approach would be to consider the multiset of tags in the columns that don't include natural language.  Let's start with these instead:"
   ]
  },
  {
   "cell_type": "code",
   "execution_count": 275,
   "metadata": {},
   "outputs": [
    {
     "data": {
      "text/html": [
       "<div>\n",
       "<table border=\"1\" class=\"dataframe\">\n",
       "  <thead>\n",
       "    <tr style=\"text-align: right;\">\n",
       "      <th></th>\n",
       "      <th>Published tags</th>\n",
       "      <th>Auto-Extracted Concepts</th>\n",
       "      <th>Suggested Revision Front End Tags</th>\n",
       "      <th>Suggested Revision Back End Tags</th>\n",
       "    </tr>\n",
       "  </thead>\n",
       "  <tbody>\n",
       "    <tr>\n",
       "      <th>0</th>\n",
       "      <td>2: snow, wedding cakes</td>\n",
       "      <td>\"additional_terms\" : [\\n\\t\\t\"bride\",\\n\\t\\t\"ivo...</td>\n",
       "      <td>wedding cakes, round cakes, white, whimsical, ...</td>\n",
       "      <td>rustic, wood, candles, roses,</td>\n",
       "    </tr>\n",
       "    <tr>\n",
       "      <th>1</th>\n",
       "      <td>2:  Wedding Cakes   Cake Flowers</td>\n",
       "      <td>\"additional_terms\" : [\\n\\t\\t\"flower\",\\n\\t\\t\"de...</td>\n",
       "      <td>wedding cakes, round cakes, white, green,  gar...</td>\n",
       "      <td>cake applique, emerald green, greenery, wood, ...</td>\n",
       "    </tr>\n",
       "    <tr>\n",
       "      <th>2</th>\n",
       "      <td>5: Fuchsia   Wedding Cakes   Bohemian   Rustic...</td>\n",
       "      <td>\\t\"additional_terms\" : [\\n\\t\\t\"anniversary\",\\n...</td>\n",
       "      <td>wedding cakes, round cakes, naked + transulcen...</td>\n",
       "      <td>casual, dahlias, ranunculus, greenery, romanti...</td>\n",
       "    </tr>\n",
       "    <tr>\n",
       "      <th>3</th>\n",
       "      <td>4:  Orange   Red   Wedding Cakes   Cake Flowers</td>\n",
       "      <td>\\t\"additional_terms\" : [\\n\\t\\t\"day's\",\\n\\t\\t\"p...</td>\n",
       "      <td>simple, wedding cakes, round cakes, white, ear...</td>\n",
       "      <td>affordable, casual, fruit, wood, ferns, bright...</td>\n",
       "    </tr>\n",
       "    <tr>\n",
       "      <th>4</th>\n",
       "      <td>5:  Burgundy   Desserts   Wedding Cakes   Bohe...</td>\n",
       "      <td>\\n\\t\"additional_terms\" : [\\n\\t\\t\"events\",\\n\\t...</td>\n",
       "      <td>bohemian, wedding cakes, cakes + desserts, cak...</td>\n",
       "      <td>naked + translucent cakes, dahlia, garden rose...</td>\n",
       "    </tr>\n",
       "  </tbody>\n",
       "</table>\n",
       "</div>"
      ],
      "text/plain": [
       "                                      Published tags  \\\n",
       "0                             2: snow, wedding cakes   \n",
       "1                   2:  Wedding Cakes   Cake Flowers   \n",
       "2  5: Fuchsia   Wedding Cakes   Bohemian   Rustic...   \n",
       "3    4:  Orange   Red   Wedding Cakes   Cake Flowers   \n",
       "4  5:  Burgundy   Desserts   Wedding Cakes   Bohe...   \n",
       "\n",
       "                             Auto-Extracted Concepts  \\\n",
       "0  \"additional_terms\" : [\\n\\t\\t\"bride\",\\n\\t\\t\"ivo...   \n",
       "1  \"additional_terms\" : [\\n\\t\\t\"flower\",\\n\\t\\t\"de...   \n",
       "2  \\t\"additional_terms\" : [\\n\\t\\t\"anniversary\",\\n...   \n",
       "3  \\t\"additional_terms\" : [\\n\\t\\t\"day's\",\\n\\t\\t\"p...   \n",
       "4   \\n\\t\"additional_terms\" : [\\n\\t\\t\"events\",\\n\\t...   \n",
       "\n",
       "                   Suggested Revision Front End Tags  \\\n",
       "0  wedding cakes, round cakes, white, whimsical, ...   \n",
       "1  wedding cakes, round cakes, white, green,  gar...   \n",
       "2  wedding cakes, round cakes, naked + transulcen...   \n",
       "3  simple, wedding cakes, round cakes, white, ear...   \n",
       "4  bohemian, wedding cakes, cakes + desserts, cak...   \n",
       "\n",
       "                    Suggested Revision Back End Tags  \n",
       "0                     rustic, wood, candles, roses,   \n",
       "1  cake applique, emerald green, greenery, wood, ...  \n",
       "2  casual, dahlias, ranunculus, greenery, romanti...  \n",
       "3  affordable, casual, fruit, wood, ferns, bright...  \n",
       "4  naked + translucent cakes, dahlia, garden rose...  "
      ]
     },
     "execution_count": 275,
     "metadata": {},
     "output_type": "execute_result"
    }
   ],
   "source": [
    "focus = [ 5, 7, 8, 9 ]\n",
    "df.iloc[:,focus].head()"
   ]
  },
  {
   "cell_type": "markdown",
   "metadata": {},
   "source": [
    "Very cool.  We're starting to get closer to actually doing something, so this is starting to get exciting!  Let's pick a couple of them and see what's parsable with less than a pushdown automata..."
   ]
  },
  {
   "cell_type": "code",
   "execution_count": 276,
   "metadata": {},
   "outputs": [
    {
     "name": "stdout",
     "output_type": "stream",
     "text": [
      "                     Published tags  \\\n",
      "0            2: snow, wedding cakes   \n",
      "1  2:  Wedding Cakes   Cake Flowers   \n",
      "\n",
      "                             Auto-Extracted Concepts  \\\n",
      "0  \"additional_terms\" : [\\n\\t\\t\"bride\",\\n\\t\\t\"ivo...   \n",
      "1  \"additional_terms\" : [\\n\\t\\t\"flower\",\\n\\t\\t\"de...   \n",
      "\n",
      "                   Suggested Revision Front End Tags  \\\n",
      "0  wedding cakes, round cakes, white, whimsical, ...   \n",
      "1  wedding cakes, round cakes, white, green,  gar...   \n",
      "\n",
      "                    Suggested Revision Back End Tags  \n",
      "0                     rustic, wood, candles, roses,   \n",
      "1  cake applique, emerald green, greenery, wood, ...  \n"
     ]
    }
   ],
   "source": [
    "cake_slice = df.iloc[:,focus]\n",
    "print(cake_slice.iloc[0:2,:])"
   ]
  },
  {
   "cell_type": "markdown",
   "metadata": {},
   "source": [
    "We can split _Published tags_ on commas and double-spaces, _Auto-Extracted Concepts_ on tabs and the last two on commas.  Here's the first one:"
   ]
  },
  {
   "cell_type": "code",
   "execution_count": 277,
   "metadata": {},
   "outputs": [
    {
     "data": {
      "text/plain": [
       "[u'wedding cakes', u'cake flowers']"
      ]
     },
     "execution_count": 277,
     "metadata": {},
     "output_type": "execute_result"
    }
   ],
   "source": [
    "[ i.lstrip().rstrip().lower() for i in cake_slice.iloc[1,:].values[0].split( '  ' ) if len(i) > 2 ]"
   ]
  },
  {
   "cell_type": "markdown",
   "metadata": {},
   "source": [
    "For the second one, I'm going to use `wordpunct_tokenize` from nltk's `tokenize` module so I don't have to strip a bunch of things out:"
   ]
  },
  {
   "cell_type": "code",
   "execution_count": 278,
   "metadata": {},
   "outputs": [
    {
     "data": {
      "text/plain": [
       "[u'bride',\n",
       " u'ivory',\n",
       " u'brown',\n",
       " u'buttercream',\n",
       " u'desserts',\n",
       " u'guests',\n",
       " u'reception',\n",
       " u'romantic',\n",
       " u'tables',\n",
       " u'winter',\n",
       " u'wedding',\n",
       " u'fondant',\n",
       " u'donuts',\n",
       " u'whimsical',\n",
       " u'white',\n",
       " u'wedding',\n",
       " u'cakes']"
      ]
     },
     "execution_count": 278,
     "metadata": {},
     "output_type": "execute_result"
    }
   ],
   "source": [
    "import nltk.tokenize as tok\n",
    "[ i.lower() for i in tok.wordpunct_tokenize(df.iloc[0,7]) if len(i) > 2 and i not in [ 'additional_terms', 'concepts' ] ]"
   ]
  },
  {
   "cell_type": "markdown",
   "metadata": {},
   "source": [
    "For completeness sake, here's the other two:"
   ]
  },
  {
   "cell_type": "code",
   "execution_count": 279,
   "metadata": {},
   "outputs": [
    {
     "name": "stdout",
     "output_type": "stream",
     "text": [
      "[u'wedding cakes', u'round cakes', u'white', u'green', u'garland', u'eclectic', u'tiered cakes', u'cake display']\n"
     ]
    }
   ],
   "source": [
    "print( [ word.rstrip().lstrip().lower() for word in cake_slice.iloc[1,:].values[2].split(',') ] )"
   ]
  },
  {
   "cell_type": "code",
   "execution_count": 280,
   "metadata": {},
   "outputs": [
    {
     "name": "stdout",
     "output_type": "stream",
     "text": [
      "[u'cake applique', u'emerald green', u'greenery', u'wood', u'modern', u'glamorous', u'black', u'gold', u'alternative', u'bohemian', u'whimsical', u'farm + ranch', u'trees']\n"
     ]
    }
   ],
   "source": [
    "print( [ word.rstrip().lstrip().lower() for word in cake_slice.iloc[1,:].values[3].split(',') ] )"
   ]
  },
  {
   "cell_type": "markdown",
   "metadata": {},
   "source": [
    "Now, let's do the same thing with the whole slice of the cakes dataframe.  I'm going to build a little filter bank and spin through the dataframe.  This kind of _ETL_ is common."
   ]
  },
  {
   "cell_type": "code",
   "execution_count": 281,
   "metadata": {},
   "outputs": [
    {
     "data": {
      "text/html": [
       "<div>\n",
       "<table border=\"1\" class=\"dataframe\">\n",
       "  <thead>\n",
       "    <tr style=\"text-align: right;\">\n",
       "      <th></th>\n",
       "      <th>0</th>\n",
       "      <th>1</th>\n",
       "      <th>2</th>\n",
       "      <th>3</th>\n",
       "    </tr>\n",
       "  </thead>\n",
       "  <tbody>\n",
       "    <tr>\n",
       "      <th>0</th>\n",
       "      <td>[snow, wedding cakes]</td>\n",
       "      <td>[bride, ivory, brown, buttercream, desserts, g...</td>\n",
       "      <td>[wedding cakes, round cakes, white, whimsical,...</td>\n",
       "      <td>[rustic, wood, candles, roses, ]</td>\n",
       "    </tr>\n",
       "    <tr>\n",
       "      <th>1</th>\n",
       "      <td>[wedding cakes, cake flowers]</td>\n",
       "      <td>[flower, decorated, painted, topper, fondant, ...</td>\n",
       "      <td>[wedding cakes, round cakes, white, green, gar...</td>\n",
       "      <td>[cake applique, emerald green, greenery, wood,...</td>\n",
       "    </tr>\n",
       "    <tr>\n",
       "      <th>2</th>\n",
       "      <td>[fuchsia, wedding cakes, bohemian, rustic, cak...</td>\n",
       "      <td>[anniversary, cake, topper, honor, shared, cak...</td>\n",
       "      <td>[wedding cakes, round cakes, naked + transulce...</td>\n",
       "      <td>[casual, dahlias, ranunculus, greenery, romant...</td>\n",
       "    </tr>\n",
       "    <tr>\n",
       "      <th>3</th>\n",
       "      <td>[orange, red, wedding cakes, cake flowers]</td>\n",
       "      <td>[day, palette, cake, people, blossoms, califor...</td>\n",
       "      <td>[simple, wedding cakes, round cakes, white, ea...</td>\n",
       "      <td>[affordable, casual, fruit, wood, ferns, brigh...</td>\n",
       "    </tr>\n",
       "    <tr>\n",
       "      <th>4</th>\n",
       "      <td>[burgundy, desserts, wedding cakes, bohemian, ...</td>\n",
       "      <td>[events, created, couple, cake, topped, paper,...</td>\n",
       "      <td>[bohemian, wedding cakes, cakes + desserts, ca...</td>\n",
       "      <td>[naked + translucent cakes, dahlia, garden ros...</td>\n",
       "    </tr>\n",
       "  </tbody>\n",
       "</table>\n",
       "</div>"
      ],
      "text/plain": [
       "                                                   0  \\\n",
       "0                              [snow, wedding cakes]   \n",
       "1                      [wedding cakes, cake flowers]   \n",
       "2  [fuchsia, wedding cakes, bohemian, rustic, cak...   \n",
       "3         [orange, red, wedding cakes, cake flowers]   \n",
       "4  [burgundy, desserts, wedding cakes, bohemian, ...   \n",
       "\n",
       "                                                   1  \\\n",
       "0  [bride, ivory, brown, buttercream, desserts, g...   \n",
       "1  [flower, decorated, painted, topper, fondant, ...   \n",
       "2  [anniversary, cake, topper, honor, shared, cak...   \n",
       "3  [day, palette, cake, people, blossoms, califor...   \n",
       "4  [events, created, couple, cake, topped, paper,...   \n",
       "\n",
       "                                                   2  \\\n",
       "0  [wedding cakes, round cakes, white, whimsical,...   \n",
       "1  [wedding cakes, round cakes, white, green, gar...   \n",
       "2  [wedding cakes, round cakes, naked + transulce...   \n",
       "3  [simple, wedding cakes, round cakes, white, ea...   \n",
       "4  [bohemian, wedding cakes, cakes + desserts, ca...   \n",
       "\n",
       "                                                   3  \n",
       "0                   [rustic, wood, candles, roses, ]  \n",
       "1  [cake applique, emerald green, greenery, wood,...  \n",
       "2  [casual, dahlias, ranunculus, greenery, romant...  \n",
       "3  [affordable, casual, fruit, wood, ferns, brigh...  \n",
       "4  [naked + translucent cakes, dahlia, garden ros...  "
      ]
     },
     "execution_count": 281,
     "metadata": {},
     "output_type": "execute_result"
    }
   ],
   "source": [
    "from unidecode import unidecode\n",
    "from collections import defaultdict\n",
    "import re\n",
    "filters = { 0: lambda s: [ i.lstrip().rstrip().lower() for i in re.split( r'(\\d\\:\\s+|,|\\s{2})', s ) \n",
    "                          if len(i.lstrip().rstrip()) > 2 ],\n",
    "            1: lambda s: [ i.lower() for i in tok.wordpunct_tokenize(s) \n",
    "                          if len(i) > 2 and i not in [ 'additional_terms', 'concepts' ] ],\n",
    "            2: lambda s: [ word.rstrip().lstrip().lower() for word in s.split(',') ],\n",
    "            3: lambda s: [ word.rstrip().lstrip().lower() for word in s.split(',') ] }\n",
    "cake_data = defaultdict(list)\n",
    "for index, row in cake_slice.iterrows():\n",
    "    for i,col in enumerate(row):\n",
    "        c = filters[i](unidecode(col))\n",
    "        cake_data[i].append(c)\n",
    "cakes_df = pd.DataFrame(cake_data)\n",
    "cakes_df.head()"
   ]
  },
  {
   "cell_type": "markdown",
   "metadata": {},
   "source": [
    "Pretty good.  Pretty, pretty, pretty, pretty, pretty good.  What would be interesting, however, is to read in the flowers sheet as well, clean it up, and see if we can start to observe differences between the two.  If we can, it will go a long way to answering which piece of information lets us best distinguish between cake photos and flower photos.  Here's the code for that:"
   ]
  },
  {
   "cell_type": "code",
   "execution_count": 282,
   "metadata": {},
   "outputs": [
    {
     "data": {
      "text/html": [
       "<div>\n",
       "<table border=\"1\" class=\"dataframe\">\n",
       "  <thead>\n",
       "    <tr style=\"text-align: right;\">\n",
       "      <th></th>\n",
       "      <th>0</th>\n",
       "      <th>1</th>\n",
       "      <th>2</th>\n",
       "      <th>3</th>\n",
       "    </tr>\n",
       "  </thead>\n",
       "  <tbody>\n",
       "    <tr>\n",
       "      <th>0</th>\n",
       "      <td>[chandeliers, flower arrangements, reception]</td>\n",
       "      <td>[decorations, accents, country, country, club,...</td>\n",
       "      <td>[floral chandelier, rustic, bohemian, euctalyp...</td>\n",
       "      <td>[green, red, string lights, wood, earth tones,...</td>\n",
       "    </tr>\n",
       "    <tr>\n",
       "      <th>1</th>\n",
       "      <td>[centerpieces, reception, succulents]</td>\n",
       "      <td>[succulent, noted, california, succulents, eco...</td>\n",
       "      <td>[centerpieces, short centerpieces, natural, mo...</td>\n",
       "      <td>[affordable, gray, linens, gardenias, white, v...</td>\n",
       "    </tr>\n",
       "    <tr>\n",
       "      <th>2</th>\n",
       "      <td>[burgundy, bouquets, bohemian, ranunculus, ferns]</td>\n",
       "      <td>[dahlia, carried, tied, fresh, full, blooms, v...</td>\n",
       "      <td>[bohemian, rustic, red, bouquets, burgandy]</td>\n",
       "      <td>[elegant, natural, earth tones, green, greens,...</td>\n",
       "    </tr>\n",
       "    <tr>\n",
       "      <th>3</th>\n",
       "      <td>[diy, bouquets, flower alternatives]</td>\n",
       "      <td>[bouquet, flowers, created, beautiful, favorit...</td>\n",
       "      <td>[bouquets, diy, colorful, brights, flower alte...</td>\n",
       "      <td>[affordable, book, artistic, bouquet wraps, pe...</td>\n",
       "    </tr>\n",
       "    <tr>\n",
       "      <th>4</th>\n",
       "      <td>[fuchsia, centerpieces, reception, dahlias, ro...</td>\n",
       "      <td>[dahlia, blooms, arrangements, large, small, d...</td>\n",
       "      <td>[centerpieces, short centerpieces, romantic, j...</td>\n",
       "      <td>[brights, casual, elegant, gold, burgandy, ros...</td>\n",
       "    </tr>\n",
       "  </tbody>\n",
       "</table>\n",
       "</div>"
      ],
      "text/plain": [
       "                                                   0  \\\n",
       "0      [chandeliers, flower arrangements, reception]   \n",
       "1              [centerpieces, reception, succulents]   \n",
       "2  [burgundy, bouquets, bohemian, ranunculus, ferns]   \n",
       "3               [diy, bouquets, flower alternatives]   \n",
       "4  [fuchsia, centerpieces, reception, dahlias, ro...   \n",
       "\n",
       "                                                   1  \\\n",
       "0  [decorations, accents, country, country, club,...   \n",
       "1  [succulent, noted, california, succulents, eco...   \n",
       "2  [dahlia, carried, tied, fresh, full, blooms, v...   \n",
       "3  [bouquet, flowers, created, beautiful, favorit...   \n",
       "4  [dahlia, blooms, arrangements, large, small, d...   \n",
       "\n",
       "                                                   2  \\\n",
       "0  [floral chandelier, rustic, bohemian, euctalyp...   \n",
       "1  [centerpieces, short centerpieces, natural, mo...   \n",
       "2        [bohemian, rustic, red, bouquets, burgandy]   \n",
       "3  [bouquets, diy, colorful, brights, flower alte...   \n",
       "4  [centerpieces, short centerpieces, romantic, j...   \n",
       "\n",
       "                                                   3  \n",
       "0  [green, red, string lights, wood, earth tones,...  \n",
       "1  [affordable, gray, linens, gardenias, white, v...  \n",
       "2  [elegant, natural, earth tones, green, greens,...  \n",
       "3  [affordable, book, artistic, bouquet wraps, pe...  \n",
       "4  [brights, casual, elegant, gold, burgandy, ros...  "
      ]
     },
     "execution_count": 282,
     "metadata": {},
     "output_type": "execute_result"
    }
   ],
   "source": [
    "flowers_df = pd.read_excel( xlsx, 'Flowers' )\n",
    "flowers_slice = flowers_df.iloc[:,focus]\n",
    "flowers_data = defaultdict(list)\n",
    "for index, row in flowers_slice.iterrows():\n",
    "    for i,col in enumerate(row):\n",
    "        c = filters[i](unidecode(col))\n",
    "        flowers_data[i].append(c)\n",
    "flowers_df = pd.DataFrame(flowers_data)\n",
    "flowers_df.head()"
   ]
  },
  {
   "cell_type": "markdown",
   "metadata": {},
   "source": [
    "Now, the investigation begins.  Since each column represents a certain kind of tag data (with a certain _flair_ as we mentioned before), we expect them to have some overlap, but also some areas where they don't overlap.  If we take the set of all words in a column as the extents of that particular colunmn's feature space, and we take a look at the most common words across all columns, it will start to give us a feel for the kind of overlap we are dealing with. The higher the overlap, the greater the amount of redundancy in the data and the less information gained in general.  In other words, the more highly correlated the sets are, the less total information we have, and the higher the total correlation or mutual information. We measure this total correlation with the _Kullback-Leibler divergence_, which quantifies the difference between two distributions.  If the KL-divergence is 0, we can expect identical distributions.  If the KL-divergence is 1, we can expect that the words are completely independent.  We'll explain and measure this quantity in a bit, but for now, let's just look at the counts:"
   ]
  },
  {
   "cell_type": "code",
   "execution_count": 283,
   "metadata": {},
   "outputs": [
    {
     "name": "stdout",
     "output_type": "stream",
     "text": [
      "Column 0:\n",
      "('bouquets', 19)\n",
      "('roses', 11)\n",
      "('centerpieces', 10)\n",
      "('ferns', 5)\n",
      "('white', 5)\n",
      "Column 1:\n",
      "('bouquets', 26)\n",
      "('white', 21)\n",
      "('roses', 20)\n",
      "('centerpieces', 15)\n",
      "('flowers', 12)\n",
      "Column 2:\n",
      "('bouquets', 23)\n",
      "('romantic', 11)\n",
      "('modern', 11)\n",
      "('centerpieces', 9)\n",
      "('greens', 7)\n",
      "Column 3:\n",
      "('elegant', 8)\n",
      "('romantic', 7)\n",
      "('roses', 7)\n",
      "('vases', 7)\n",
      "('traditional', 7)\n"
     ]
    }
   ],
   "source": [
    "from itertools import chain\n",
    "from collections import Counter\n",
    "for col in flowers_df.columns:\n",
    "    print( \"Column {}:\\n{}\".format(col,'\\n'.join(str(t) for t in Counter( chain( *flowers_df.iloc[:,col] ) ).most_common(5))) )"
   ]
  },
  {
   "cell_type": "markdown",
   "metadata": {},
   "source": [
    "And the same thing with the cakes..."
   ]
  },
  {
   "cell_type": "code",
   "execution_count": 284,
   "metadata": {},
   "outputs": [
    {
     "name": "stdout",
     "output_type": "stream",
     "text": [
      "Column 0:\n",
      "('wedding cakes', 23)\n",
      "('cake flowers', 13)\n",
      "('tiered cakes', 8)\n",
      "('round cakes', 7)\n",
      "('cakes + desserts', 6)\n",
      "Column 1:\n",
      "('wedding', 52)\n",
      "('cake', 25)\n",
      "('cakes', 24)\n",
      "('white', 12)\n",
      "('gold', 8)\n",
      "Column 2:\n",
      "('wedding cakes', 18)\n",
      "('cake flowers', 12)\n",
      "('white', 8)\n",
      "('whimsical', 7)\n",
      "('tiered cakes', 6)\n",
      "Column 3:\n",
      "('round cakes', 15)\n",
      "('wood', 9)\n",
      "('fondant', 9)\n",
      "('tiered cakes', 8)\n",
      "('bohemian', 7)\n"
     ]
    }
   ],
   "source": [
    "for col in cakes_df.columns:\n",
    "    print( \"Column {}:\\n{}\".format(col,'\\n'.join(str(t) for t in Counter( chain( *cakes_df.iloc[:,col] ) ).most_common(5))) )"
   ]
  },
  {
   "cell_type": "markdown",
   "metadata": {},
   "source": [
    "We can already see some good separation between these particular sets in the 5 most frequent terms. There is some intersection between them as well, which we can confirm by just checking the length of the intersection of the terms:"
   ]
  },
  {
   "cell_type": "code",
   "execution_count": 285,
   "metadata": {},
   "outputs": [
    {
     "data": {
      "text/plain": [
       "151"
      ]
     },
     "execution_count": 285,
     "metadata": {},
     "output_type": "execute_result"
    }
   ],
   "source": [
    "len( set(Counter( chain( *chain( *chain( row.tolist() for col,row in cakes_df.iterrows()) )) ).keys()).intersection\n",
    "   ( set(Counter( chain( *chain( *chain( row.tolist() for col,row in flowers_df.iterrows()) )) ).keys()) ))"
   ]
  },
  {
   "cell_type": "markdown",
   "metadata": {},
   "source": [
    "### Analyzing the data\n",
    "\n",
    "Ok.  We loaded our data and began the analysis process just getting our feet wet, looking at some counts and summary statistics that really don't tell us much but make us feel like we're at least cutting a path in the jungle.  Let's move heavily into some analysis of different parts of it.  We can start by posing some questions:\n",
    "\n",
    "* _How well do the tags alone in these 4 columns let us distinguish between the sheets?_\n",
    "* _If we were presented with only the tags on an image, could we identify which sheet it came from?_\n",
    "\n",
    "### Dimensionality Reduction\n",
    "\n",
    "To start answering these questions, let's treat each of the images as a point in space and color them based on the origin sheet.  Then, if we plot them, we should be able to see all of the cakes grouped together, all of the flowers grouped together, etc.  The problem, however, is what to plot.  Our data has as many dimensions as the union of all tags in the data and we would like to have at most 2 or 3 dimensions to plot on our screen.  We need to engage some techniques referred to as _dimensionality reduction_.  There are lots of ways to do this, so it's easy to get lost if you drop that phrase into google and follow things around.  The main thing to keep in mind is that our data has variation that we call _variance_.  Variance is a quality of data that makes it uniquely represent something.  Think about this for a moment.  If two pieces of data have no variation between them, they are identical, or perfectly similar.  On the other hand, if two pieces of data have lots of variation, they are very dissimilar.  One general approach to dimensionality reduction is to choose those dimensions of the data that capture the maximum amount of variation.  This is usually done using some form of _eigendecomposition_ or _singular-value decomposition_, so most techniques will use this in one way or another. It is also possible to use the _KL-divergence_ in the following way: KL-divergence is a measure of the information lost when using a distribution _q(x)_ to approximate _p(x)_.  By minimizing this measure over the space of all of our data in _p(x)_, we can find the right mapping of points in _q(x)_ that minimizes the information loss by moving to a lower-dimensional space.  t-SNE is one technique we will use to perform this mapping.  \n",
    "\n",
    "Our tag data is also _categorical_ in nature in that tags are either present or not.  Count-based text data where words are counted and, optionally, frequency weighted, would be _quantitative_ or _real-valued_ in nature.  That is, the numbers represent a quantity in the data as opposed to a quality.  Knowing this about our data is key, as it will limit the kind of techniques we can choose among to reduce the number of dimensions.  _Principal Component Analysis_, for example is a common technique that performs eigendecomposition to solve for a number of principal components in the data.  These principal components are essentially the _axes_ of the variation within the data.  They are linearly independent and we order them in terms of the amount of variation they capture within the data.  If we can capture 90% of the variation within our highly-dimensional data with the first 3 principal components, it does a reasonable job of approximating a highly-dimensional space with only 3 dimensions.  The problem with using PCA on categorical data is that there is no well-defined notion of _mean-centering_.  The net result is that the first few components are completely wrong.  Instead, we will first use a different principal component technique called _Multiple Correspondence Analysis_ or _MCA_.  The MCA technique, instead of operating on a mean-centered quantitative matrix, takes as input either a _contingency table_ or a _complete disjunctive table_ or a _Burt table_, and produces a lower-dimensional set of factors which represent the underlying structure in the data.  Let's jump to it, but first, let's load in all of the sheets:"
   ]
  },
  {
   "cell_type": "code",
   "execution_count": 286,
   "metadata": {
    "collapsed": true
   },
   "outputs": [],
   "source": [
    "sheet_tags = {}\n",
    "sheet_text = {}\n",
    "colors=[]\n",
    "sheet_colors={}\n",
    "for color, sheet in zip(('red','green','blue','orange'), \n",
    "                        ('CakesDesserts', 'Flowers', 'CeremonyReception Scene', 'Place SettingTable')):\n",
    "    sheet_colors[sheet] = color\n",
    "    df = pd.read_excel(xlsx, sheet)\n",
    "\n",
    "    text_focus = [ 'Title', 'Body Copy' ]\n",
    "    slice = df.loc[:,text_focus].fillna('')\n",
    "    sheet_text[sheet] = slice\n",
    "    \n",
    "    tag_focus = [ 'Published tags',\n",
    "                  'Auto-Extracted Concepts',\n",
    "                  'Suggested Revision Front End Tags',\n",
    "                  'Suggested Revision Back End Tags' ]\n",
    "    slice = df.loc[:,tag_focus].fillna('')\n",
    "    slice_data = defaultdict(list)\n",
    "    for index, row in slice.iterrows():\n",
    "        for i,col in enumerate(row):\n",
    "            c = filters[i](unidecode(col))\n",
    "            slice_data[i].append(c)\n",
    "    sheet_tags[sheet] = pd.DataFrame(slice_data)\n",
    "    colors.extend( [color]*len(df) )"
   ]
  },
  {
   "cell_type": "markdown",
   "metadata": {},
   "source": [
    "Next, let's go through a process called _vectorization_.  Vectorization is where we convert our data to a vector of numbers as inputs to our algorithms.  There are many ways we can vectorize, so this is one of the knobs in our analysis techniques that we'll need to find the right setting for.  Here, I'm going to vectorize both the tags and the free-text.  For the tags, I'm simply going to count them with _sklearn's_ _CountVectorizer_, and for the free-text, we'll use the _TfidfVectorizer_.  Before vectorizing both, we'd like to remove some stop-words..."
   ]
  },
  {
   "cell_type": "code",
   "execution_count": 287,
   "metadata": {
    "collapsed": true
   },
   "outputs": [],
   "source": [
    "from sklearn.feature_extraction.text import CountVectorizer, TfidfVectorizer\n",
    "from stop_words import get_stop_words\n",
    "all_text = []\n",
    "for sheet, df in sheet_text.iteritems():\n",
    "    for idx, row in df.iterrows():\n",
    "        all_text.append(': '.join(row.values))\n",
    "        \n",
    "all_tags = []\n",
    "tag_vocabulary = set([])\n",
    "for sheet, df in sheet_tags.iteritems():\n",
    "    for idx, row in df.iterrows():\n",
    "        tag_vocabulary.update(chain(*row.tolist()))\n",
    "        all_tags.append( ','.join( chain(*row.tolist()) ) )\n",
    "        \n",
    "st_words = get_stop_words('en')\n",
    "st_words.extend( ['tag', 'tags', 'additional_terms', 'body', 'end'] )\n",
    "tvectorizer = TfidfVectorizer( input='content', stop_words=st_words )\n",
    "cvectorizer = CountVectorizer( input='content', vocabulary=tag_vocabulary )\n",
    "Xtext = tvectorizer.fit_transform(all_text)"
   ]
  },
  {
   "cell_type": "markdown",
   "metadata": {},
   "source": [
    "Now, I'll run the correspondence analysis on the tag data.  I set the number of latent factors at 2 just to make a plot for inspection"
   ]
  },
  {
   "cell_type": "code",
   "execution_count": 288,
   "metadata": {},
   "outputs": [
    {
     "data": {
      "text/html": [
       "<div>\n",
       "<table border=\"1\" class=\"dataframe\">\n",
       "  <thead>\n",
       "    <tr style=\"text-align: right;\">\n",
       "      <th></th>\n",
       "      <th>0</th>\n",
       "      <th>1</th>\n",
       "    </tr>\n",
       "  </thead>\n",
       "  <tbody>\n",
       "    <tr>\n",
       "      <th>0</th>\n",
       "      <td>0.008003</td>\n",
       "      <td>-0.017655</td>\n",
       "    </tr>\n",
       "    <tr>\n",
       "      <th>1</th>\n",
       "      <td>-0.002954</td>\n",
       "      <td>-0.010164</td>\n",
       "    </tr>\n",
       "    <tr>\n",
       "      <th>2</th>\n",
       "      <td>-0.000122</td>\n",
       "      <td>0.002101</td>\n",
       "    </tr>\n",
       "    <tr>\n",
       "      <th>3</th>\n",
       "      <td>0.099460</td>\n",
       "      <td>-0.093874</td>\n",
       "    </tr>\n",
       "    <tr>\n",
       "      <th>4</th>\n",
       "      <td>0.006539</td>\n",
       "      <td>-0.003057</td>\n",
       "    </tr>\n",
       "  </tbody>\n",
       "</table>\n",
       "</div>"
      ],
      "text/plain": [
       "          0         1\n",
       "0  0.008003 -0.017655\n",
       "1 -0.002954 -0.010164\n",
       "2 -0.000122  0.002101\n",
       "3  0.099460 -0.093874\n",
       "4  0.006539 -0.003057"
      ]
     },
     "execution_count": 288,
     "metadata": {},
     "output_type": "execute_result"
    }
   ],
   "source": [
    "import mca\n",
    "import numpy as np\n",
    "import matplotlib.pyplot as plt\n",
    "from sklearn import cluster, metrics\n",
    "\n",
    "smca = cvectorizer.fit_transform(all_tags).toarray()\n",
    "df_mca = pd.DataFrame( smca, columns=cvectorizer.get_feature_names() )\n",
    "\n",
    "mca_tags = mca.mca(df_mca, cols=df_mca.columns)\n",
    "points = mca_tags.fs_r( N=2 )\n",
    "df_p = pd.DataFrame(points)\n",
    "df_p.head()"
   ]
  },
  {
   "cell_type": "code",
   "execution_count": 289,
   "metadata": {},
   "outputs": [
    {
     "data": {
      "image/png": "[encoded data removed]",
      "text/plain": [
       "<matplotlib.figure.Figure at 0x113dc1610>"
      ]
     },
     "metadata": {},
     "output_type": "display_data"
    }
   ],
   "source": [
    "plt.figure()\n",
    "for idx, row in df_p.iterrows():\n",
    "    plt.scatter( row[0], row[1], color=colors[idx] )\n",
    "    \n",
    "plt.title( 'MCA on Content Tags' )\n",
    "plt.show( 'rw_mca_tags.png' )"
   ]
  },
  {
   "cell_type": "markdown",
   "metadata": {},
   "source": [
    "Well, it's hard to see what's going on here, mainly because matplotlib is trying to fit all of our data on the screen.  If we could remove the outliers, we could see what the clump in the middle looks like.  There are lots of ways we can detect outliers.  Maybe the first thing that comes to mind is, just remove things that are outside of a certain number of standard deviations from the mean.  The problem with this kind of method is that the standard deviation and mean are not _robust estimators_ of central tendency.  That is, they are themselves heavily influenced by the presence of outliers.  Consider the following array:"
   ]
  },
  {
   "cell_type": "code",
   "execution_count": 290,
   "metadata": {},
   "outputs": [
    {
     "name": "stdout",
     "output_type": "stream",
     "text": [
      "               0\n",
      "count  11.000000\n",
      "mean    3.727273\n",
      "std     0.786245\n",
      "min     3.000000\n",
      "25%     3.000000\n",
      "50%     4.000000\n",
      "75%     4.000000\n",
      "max     5.000000\n",
      "mid     4.0\n"
     ]
    }
   ],
   "source": [
    "eg = pd.DataFrame( [ 3,3,4,4,3,5,4,3,3,4,5 ] )\n",
    "print( eg.describe() )\n",
    "print( '{:<8}{}'.format('mid', eg.median().values[0]) )"
   ]
  },
  {
   "cell_type": "markdown",
   "metadata": {},
   "source": [
    "Now lets add an outlier and do the same:"
   ]
  },
  {
   "cell_type": "code",
   "execution_count": 291,
   "metadata": {},
   "outputs": [
    {
     "name": "stdout",
     "output_type": "stream",
     "text": [
      "                  0\n",
      "count  1.200000e+01\n",
      "mean   8.333368e+05\n",
      "std    2.886750e+06\n",
      "min    3.000000e+00\n",
      "25%    3.000000e+00\n",
      "50%    4.000000e+00\n",
      "75%    4.250000e+00\n",
      "max    1.000000e+07\n",
      "mid     4.0\n"
     ]
    }
   ],
   "source": [
    "eg = pd.DataFrame( [ 3,3,4,4,3,5,4,3,3,4,5,10000000 ] )\n",
    "print( eg.describe() )\n",
    "print( '{:<8}{}'.format('mid', eg.median().values[0]) )"
   ]
  },
  {
   "cell_type": "markdown",
   "metadata": {},
   "source": [
    "Notice that the mean and standard deviation are now very large, but the median is still 4.0 in both cases.  This is what we mean when we say that the mean and standard deviation are not robust estimators.  Something we typically do, then, is remove points that are some _median absolute deviation_ from the median.  That is, we take the median, compute the magnitude of the deviation of each point from the median, and then take the median of that result as our measure of how much of an _outlier_ a point is:"
   ]
  },
  {
   "cell_type": "code",
   "execution_count": 292,
   "metadata": {},
   "outputs": [
    {
     "data": {
      "image/png": "[encoded data removed]",
      "text/plain": [
       "<matplotlib.figure.Figure at 0x11ad91250>"
      ]
     },
     "metadata": {},
     "output_type": "display_data"
    }
   ],
   "source": [
    "central_points = df_p[ df_p.abs() < 2*df_p.mad() ].dropna()\n",
    "plt.figure()\n",
    "for idx, row in central_points.iterrows():\n",
    "    plt.scatter( row[0], row[1], color=colors[idx] )\n",
    "    \n",
    "plt.title( 'MCA on Content Tags (minus outliers)' )\n",
    "plt.show( 'rw_mca_tags.png' )"
   ]
  },
  {
   "cell_type": "markdown",
   "metadata": {},
   "source": [
    "Much better.  It looks like MCA is definitely finding some reasonably discriminative latent structure in our tag data when it boils it down to the first two principal components.  Why did we pick two?  Only so that we could plot.  It isn't likely that we are capturing enough of the variance within the data with only two dimensions.  In fact, if we instruct MCA to preserve the factors that capture 90% of the variance, we get around 40 different factors.  The problem is, we can't plot 40.  But, fear not, we can get a sense for how separated these clusters are when higher dimensions are used.  What we will do is first, run our data through MCA with a larger number of dimensions, say 40.  Then, we will attempt to cluster the data.  Since we know what the true cluster assignment should be, we can compare the results and see how we did.  To do this, we will introduce a series of multi-dimensional clustering algorithms as well as a measure to validate the assignment.  Typically, one uses something called a _v-measure_, an entropy measurement which is very analogous to an _F-measure_ in classification analysis.  V-measure is the harmonic mean between _completeness_: each of a given class assigned to the same cluster and _homogeneity_: clusters have only one class represented.  The higher the v-measure, the better our clustering algorithm did.  Let's take a look:"
   ]
  },
  {
   "cell_type": "code",
   "execution_count": 293,
   "metadata": {},
   "outputs": [
    {
     "name": "stdout",
     "output_type": "stream",
     "text": [
      "\n",
      "2-factor clustering performance\n",
      "                  Type                      Homogeneity         Completeness         V-measure      \n",
      "----------------------------------------------------------------------------------------------------\n",
      "          Spectral Clustering                   0.12                0.15                0.14        \n",
      "                 KMeans                         0.17                0.17                0.17        \n",
      "           Mini-batch KMeans                    0.17                0.17                0.17        \n",
      "          Affinity Propagation                  0.26                0.15                0.19        \n",
      "\n",
      "10-factor clustering performance\n",
      "                  Type                      Homogeneity         Completeness         V-measure      \n",
      "----------------------------------------------------------------------------------------------------\n",
      "          Spectral Clustering                   0.35                0.35                0.35        \n",
      "                 KMeans                         0.42                0.42                0.42        \n",
      "           Mini-batch KMeans                    0.42                0.41                0.42        \n",
      "          Affinity Propagation                  0.57                0.35                0.43        \n",
      "\n",
      "40-factor clustering performance\n",
      "                  Type                      Homogeneity         Completeness         V-measure      \n",
      "----------------------------------------------------------------------------------------------------\n",
      "          Spectral Clustering                   0.34                0.34                0.34        \n",
      "                 KMeans                         0.36                0.34                0.35        \n",
      "           Mini-batch KMeans                    0.32                0.36                0.34        \n",
      "          Affinity Propagation                  0.39                0.29                0.33        \n"
     ]
    }
   ],
   "source": [
    "from collections import OrderedDict\n",
    "color_clusters = { c:i for i,c in enumerate(sheet_colors.values()) }\n",
    "mca_tags = mca.mca(df_mca, cols=df_mca.columns)\n",
    "all_points = OrderedDict( (N,mca_tags.fs_r( N=N )) for N in [ 2, 10, 40 ] )\n",
    "for N, points in all_points.iteritems():\n",
    "    df_p = pd.DataFrame(points)\n",
    "    central_points = df_p[ df_p.abs() < 2*df_p.mad() ].dropna()\n",
    "    true_clusters = []\n",
    "    for idx, row in central_points.iterrows():\n",
    "        true_clusters.append( color_clusters[ colors[idx] ] )\n",
    "    print()\n",
    "    print( '{}-factor clustering performance'.format(N) )\n",
    "    print( '{:^40}{:^20}{:^20}{:^20}'.format( 'Type', 'Homogeneity', 'Completeness', 'V-measure' ) )\n",
    "    print( '-'*100 )\n",
    "    for name, clu in zip( ('Spectral Clustering', 'KMeans', 'Mini-batch KMeans', 'Affinity Propagation'),\n",
    "                        ( cluster.SpectralClustering( n_clusters=len(color_clusters) ),\n",
    "                          cluster.KMeans( n_clusters=len(color_clusters) ),\n",
    "                          cluster.MiniBatchKMeans( n_clusters=len(color_clusters) ),\n",
    "                          cluster.AffinityPropagation() ) ):\n",
    "\n",
    "        preds = clu.fit_predict( central_points )\n",
    "        hscore, cscore, vmeasure = metrics.homogeneity_completeness_v_measure( true_clusters, preds )\n",
    "        print( '{:^40}{:^20.2}{:^20.2}{:^20.2}'.format( name, hscore, cscore, vmeasure ) )"
   ]
  },
  {
   "cell_type": "markdown",
   "metadata": {
    "collapsed": true
   },
   "source": [
    "From the above table, K-means clustering on 10 factors produces the tightest clusters.  Another way of thinking about this result is that the first 10 principal components contain enough of the significant underlying factors in the data that explain the variability in such a way that we are able to discriminate between the somewhat overlapping classes based on these 10 alone.\n",
    "\n",
    "How exactly should we interpret the principal axes in our plot? We plotted something called \"fs_r\" above.  These are the _factor scores_ for the rows.  Each of these scores gives the relation between the row and one of the principal components that we discovered.  We chose the x axis to represent the first principal component (the one that explains the most variability) and the y axis to represent the second principal component.  Close points with respect to a given axis indicate similarity between those two rows and the particular latent feature that the first component represents.  For example, let's say color is what represents the first component, and since cakes and flowers are colored differently, that explains (confounds?) much of the difference in the tags.  Two points might be colored similarly if they are close along this first dimension (project the points down to the x axis and see if they are close together on that line).\n",
    "\n",
    "### Topic Extraction\n",
    "\n",
    "Let's shift gears a bit and turn our attention to analyzing the natural language text of each image.  One reasonable starting approach is to attempt to extract the main points from all of the text associated with an image.  These main points are called _topics_.  For example, a bit of text like\n",
    "\n",
    "_Elegant, Intimate Reception With Flower Garlands at at La Maison des Centraliens: \"The flowers were a combination of white hydrangeas and roses,\" says Morgan, who chose a stunning garland of blossoms to adorn the banquet table that seated Kevin and her and their 10 guests at the reception._\n",
    "\n",
    "seems to have a broad topic like `Banquet table flower decorations`, but if you had to pick just one word, you might choose _flower_ or _reception_ or _banquet_.  Then, we would likely be able to either group images into topics or identify the topics that are most likely represented by the language.\n",
    "\n",
    "The technique we will use to do this is called _Latent Dirichlet Allocation_.  The primary assumptions behind this technique are:\n",
    "\n",
    "* A small number of _topics_ are associated with a piece of text.  These topics generate words with some probability.  For example, if someone is writing about animal conservation efforts, there would be a much higher probability of the words 'endangered', 'species', 'man-made', etc. than there would words like 'transaxle', 'antenna', 'muffler', etc.\n",
    "* We encode this intuition with a _dirichlet_ distribution.  This distribution is a multi-variate generalization of the beta distribution where we can vary the number of topics by the mass parameter."
   ]
  },
  {
   "cell_type": "code",
   "execution_count": 294,
   "metadata": {},
   "outputs": [
    {
     "name": "stdout",
     "output_type": "stream",
     "text": [
      "performing latent semantic analysis on workbook...\n"
     ]
    },
    {
     "data": {
      "image/png": "[encoded data removed]",
      "text/plain": [
       "<matplotlib.figure.Figure at 0x11a9fdbd0>"
      ]
     },
     "metadata": {},
     "output_type": "display_data"
    }
   ],
   "source": [
    "from sklearn.manifold import TSNE\n",
    "from sklearn.decomposition import TruncatedSVD, LatentDirichletAllocation\n",
    "from sklearn.feature_extraction.text import CountVectorizer, TfidfVectorizer\n",
    "import numpy as np\n",
    "import matplotlib.pyplot as plt\n",
    "from scipy.spatial.distance import pdist, squareform\n",
    "from stop_words import get_stop_words\n",
    "\n",
    "colors = []\n",
    "colors_sheets = { 'CakesDesserts' : 'red', 'Flowers' : 'green', 'CeremonyReception Scene' : 'blue', 'Place SettingTable' : 'orange' }\n",
    "\n",
    "# lsa\n",
    "print( 'performing latent semantic analysis on workbook...' )\n",
    "\n",
    "all_rows = []\n",
    "for sheet, df in sheet_text.iteritems():\n",
    "    for idx, row in df.iterrows():\n",
    "        all_rows.append(': '.join(row.values))\n",
    "        colors.append( colors_sheets[sheet] )\n",
    "\n",
    "st_words = get_stop_words('en')\n",
    "st_words.extend( ['tag', 'tags', 'additional_terms', 'body', 'end'] )\n",
    "vectorizer = CountVectorizer( input='content', stop_words=st_words )\n",
    "X = vectorizer.fit_transform(all_rows)\n",
    "svd = TruncatedSVD( n_components=2, n_iter=7, random_state=42 )\n",
    "X_p = svd.fit_transform(X)\n",
    "np.set_printoptions(suppress=True)\n",
    "\n",
    "plt.figure()\n",
    "plt.title('SVD of editorial text')\n",
    "for idx, (x,y) in enumerate( zip(X_p[::,0], X_p[::,1]) ):\n",
    "    plt.scatter( x, y, color=colors[idx] )\n",
    "\n",
    "plt.show()"
   ]
  },
  {
   "cell_type": "code",
   "execution_count": 295,
   "metadata": {},
   "outputs": [
    {
     "data": {
      "image/png": "[encoded data removed]",
      "text/plain": [
       "<matplotlib.figure.Figure at 0x11a936450>"
      ]
     },
     "metadata": {},
     "output_type": "display_data"
    }
   ],
   "source": [
    "svd = TruncatedSVD( n_components=5, n_iter=7, random_state=42 )\n",
    "X_p = svd.fit_transform(X)\n",
    "model = TSNE( n_components=2, random_state=0, early_exaggeration=8.0, metric='precomputed' )\n",
    "distances = squareform( pdist( X_p, metric='cosine' ) )\n",
    "distances[np.isnan(distances)] = 0\n",
    "Y_map = model.fit_transform(distances)\n",
    "    \n",
    "plt.figure()\n",
    "plt.title( 'TSNE of SVD-reduced editorial text' )\n",
    "for idx, (x,y) in enumerate( zip(Y_map[::,0], Y_map[::,1]) ):\n",
    "    plt.scatter( x, y, color=colors[idx] )\n",
    "\n",
    "plt.show()"
   ]
  },
  {
   "cell_type": "code",
   "execution_count": 296,
   "metadata": {},
   "outputs": [
    {
     "name": "stderr",
     "output_type": "stream",
     "text": [
      "/usr/local/lib/python2.7/site-packages/sklearn/decomposition/online_lda.py:508: DeprecationWarning: The default value for 'learning_method' will be changed from 'online' to 'batch' in the release 0.20. This warning was introduced in 0.18.\n",
      "  DeprecationWarning)\n"
     ]
    },
    {
     "name": "stdout",
     "output_type": "stream",
     "text": [
      "       Topic                                             Terms                                      \n",
      "----------------------------------------------------------------------------------------------------\n",
      "         0                                         succulents-bouquet                               \n",
      "         1                                            cake-wedding                                  \n",
      "         2                                           white-bouquet                                  \n",
      "         3                                          white-reception                                 \n"
     ]
    }
   ],
   "source": [
    "n_topics = 4\n",
    "lda = LatentDirichletAllocation( n_topics=n_topics, max_iter=5, random_state=42 )\n",
    "X_p = lda.fit_transform(X)\n",
    "top_words = 2\n",
    "print( '{:^20}{:^80}'.format( 'Topic', 'Terms' ) )\n",
    "print( '-'*100 )\n",
    "for i, topic in enumerate(lda.components_):\n",
    "    terms = '-'.join([vectorizer.get_feature_names()[j] for j in topic.argsort()[:-top_words-1:-1]])\n",
    "    print( '{:^20}{:^80}'.format( i, terms ) )"
   ]
  },
  {
   "cell_type": "code",
   "execution_count": 297,
   "metadata": {},
   "outputs": [
    {
     "data": {
      "image/png": "[encoded data removed]",
      "text/plain": [
       "<matplotlib.figure.Figure at 0x11a676310>"
      ]
     },
     "metadata": {},
     "output_type": "display_data"
    }
   ],
   "source": [
    "estimated_topics = []\n",
    "for i, row in enumerate(all_rows):\n",
    "    vrow = X[i]\n",
    "    prob_dist = lda.transform( vrow )\n",
    "    estimated_topics.append(prob_dist[0])\n",
    "\n",
    "et = np.array(estimated_topics)\n",
    "\n",
    "et_model = TSNE( n_components=2, random_state=0, early_exaggeration=8.0 )\n",
    "Y_map = et_model.fit_transform(et)\n",
    "plt.figure()\n",
    "plt.title('TSNE of {}-topic LDA'.format(n_topics) )\n",
    "for idx, (x,y) in enumerate( zip(Y_map[::,0], Y_map[::,1]) ):\n",
    "    plt.scatter( x, y, color=colors[idx] )\n",
    "plt.show()"
   ]
  },
  {
   "cell_type": "markdown",
   "metadata": {},
   "source": [
    "### Supplimentary Graphs"
   ]
  },
  {
   "cell_type": "code",
   "execution_count": 298,
   "metadata": {},
   "outputs": [
    {
     "name": "stdout",
     "output_type": "stream",
     "text": [
      "X.shape is (129, 16)\n",
      "computing raw SVD\n"
     ]
    },
    {
     "data": {
      "image/png": "[encoded data removed]",
      "text/plain": [
       "<matplotlib.figure.Figure at 0x113b77950>"
      ]
     },
     "metadata": {},
     "output_type": "display_data"
    },
    {
     "data": {
      "image/png": "[encoded data removed]",
      "text/plain": [
       "<matplotlib.figure.Figure at 0x11a929d10>"
      ]
     },
     "metadata": {},
     "output_type": "display_data"
    },
    {
     "name": "stdout",
     "output_type": "stream",
     "text": [
      "X.shape is (129, 30)\n",
      "computing raw SVD\n"
     ]
    },
    {
     "data": {
      "image/png": "[encoded data removed]",
      "text/plain": [
       "<matplotlib.figure.Figure at 0x11a060c50>"
      ]
     },
     "metadata": {},
     "output_type": "display_data"
    },
    {
     "data": {
      "image/png": "[encoded data removed]",
      "text/plain": [
       "<matplotlib.figure.Figure at 0x113d0e310>"
      ]
     },
     "metadata": {},
     "output_type": "display_data"
    },
    {
     "name": "stdout",
     "output_type": "stream",
     "text": [
      "X.shape is (129, 55)\n",
      "computing raw SVD\n"
     ]
    },
    {
     "data": {
      "image/png": "[encoded data removed]",
      "text/plain": [
       "<matplotlib.figure.Figure at 0x10d45f190>"
      ]
     },
     "metadata": {},
     "output_type": "display_data"
    },
    {
     "data": {
      "image/png": "[encoded data removed]",
      "text/plain": [
       "<matplotlib.figure.Figure at 0x113720fd0>"
      ]
     },
     "metadata": {},
     "output_type": "display_data"
    },
    {
     "name": "stdout",
     "output_type": "stream",
     "text": [
      "X.shape is (129, 88)\n",
      "computing raw SVD\n"
     ]
    },
    {
     "data": {
      "image/png": "[encoded data removed]",
      "text/plain": [
       "<matplotlib.figure.Figure at 0x113720c10>"
      ]
     },
     "metadata": {},
     "output_type": "display_data"
    },
    {
     "data": {
      "image/png": "[encoded data removed]",
      "text/plain": [
       "<matplotlib.figure.Figure at 0x11a671f10>"
      ]
     },
     "metadata": {},
     "output_type": "display_data"
    },
    {
     "name": "stdout",
     "output_type": "stream",
     "text": [
      "X.shape is (129, 183)\n",
      "computing raw SVD\n"
     ]
    },
    {
     "data": {
      "image/png": "[encoded data removed]",
      "text/plain": [
       "<matplotlib.figure.Figure at 0x113636b50>"
      ]
     },
     "metadata": {},
     "output_type": "display_data"
    },
    {
     "data": {
      "image/png": "[encoded data removed]",
      "text/plain": [
       "<matplotlib.figure.Figure at 0x113b66310>"
      ]
     },
     "metadata": {},
     "output_type": "display_data"
    },
    {
     "name": "stdout",
     "output_type": "stream",
     "text": [
      "X.shape is (129, 454)\n",
      "computing raw SVD\n"
     ]
    },
    {
     "data": {
      "image/png": "[encoded data removed]",
      "text/plain": [
       "<matplotlib.figure.Figure at 0x113b66490>"
      ]
     },
     "metadata": {},
     "output_type": "display_data"
    },
    {
     "data": {
      "image/png": "[encoded data removed]",
      "text/plain": [
       "<matplotlib.figure.Figure at 0x113b66510>"
      ]
     },
     "metadata": {},
     "output_type": "display_data"
    },
    {
     "name": "stdout",
     "output_type": "stream",
     "text": [
      "X.shape is (129, 858)\n",
      "computing raw SVD\n"
     ]
    },
    {
     "data": {
      "image/png": "[encoded data removed]",
      "text/plain": [
       "<matplotlib.figure.Figure at 0x1113c5c90>"
      ]
     },
     "metadata": {},
     "output_type": "display_data"
    },
    {
     "data": {
      "image/png": "[encoded data removed]",
      "text/plain": [
       "<matplotlib.figure.Figure at 0x10f4fc290>"
      ]
     },
     "metadata": {},
     "output_type": "display_data"
    }
   ],
   "source": [
    "from collections import OrderedDict\n",
    "\n",
    "for term_limit in (5,10,20,40,80,200,800):\n",
    "    valid_terms = set([])\n",
    "    for sheetname, df in sheet_tags.iteritems():\n",
    "        term_count = Counter()\n",
    "        for index, row in df.iterrows():\n",
    "            term_count.update( chain( *row.tolist() ) )\n",
    "        valid_terms.update([ i[0] for i in term_count.most_common()[:term_limit] ])\n",
    "\n",
    "    megaterms = OrderedDict( (term,i) for i,term in enumerate( valid_terms ) )\n",
    "\n",
    "    global_rowfeatures = defaultdict(list)\n",
    "    default_features = np.zeros( len(megaterms) )\n",
    "    for sheetname, df in sheet_tags.iteritems():\n",
    "        for index, row in df.iterrows():\n",
    "            row_features = default_features.copy()\n",
    "            thisrow = list(chain( *row.tolist() ))\n",
    "            for t in thisrow:\n",
    "                if t in megaterms:\n",
    "                    row_features[ megaterms[t] ] = 1\n",
    "            global_rowfeatures[sheetname].append(row_features)\n",
    "#                colors.append( colors_sheets[sheetname] )\n",
    "    X = np.array( list(chain(*global_rowfeatures.values())) )\n",
    "    print( 'X.shape is {}'.format(X.shape) )\n",
    "#        metrics = [ 'cosine', 'dice', 'jaccard', 'cityblock' ]\n",
    "\n",
    "    print( 'computing raw SVD' )\n",
    "    svd = TruncatedSVD( n_components=2, n_iter=7, random_state=42 )\n",
    "    X_p = svd.fit_transform(X)\n",
    "    np.set_printoptions(suppress=True)\n",
    "\n",
    "    plt.figure()\n",
    "    plt.title( '2d SVD on tag data (max tags: {})'.format(term_limit) )\n",
    "    for idx, (x,y) in enumerate( zip(X_p[::,0], X_p[::,1]) ):\n",
    "        plt.scatter( x, y, color=colors[idx] )\n",
    "   \n",
    "    plt.show()\n",
    "\n",
    "    svd = TruncatedSVD( n_components=5, n_iter=7, random_state=42 )\n",
    "    X_p = svd.fit_transform(X)\n",
    "    model = TSNE( n_components=2, random_state=0, early_exaggeration=8.0, metric='precomputed' )\n",
    "    distances = squareform( pdist( X_p, metric='cosine' ) )\n",
    "    distances[np.isnan(distances)] = 0\n",
    "    np.set_printoptions(suppress=True)\n",
    "    Y_map = model.fit_transform(distances)\n",
    "    \n",
    "    plt.figure()\n",
    "    plt.title( 'TSNE on SVD-reduced tag data (max tags: {})'.format(term_limit) )\n",
    "    for idx, (x,y) in enumerate( zip(Y_map[::,0], Y_map[::,1]) ):\n",
    "        plt.scatter( x, y, color=colors[idx] )\n",
    "    \n",
    "    plt.show()"
   ]
  },
  {
   "cell_type": "code",
   "execution_count": null,
   "metadata": {
    "collapsed": true
   },
   "outputs": [],
   "source": []
  }
 ],
 "metadata": {
  "kernelspec": {
   "display_name": "Python 2",
   "language": "python",
   "name": "python2"
  },
  "language_info": {
   "codemirror_mode": {
    "name": "ipython",
    "version": 2
   },
   "file_extension": ".py",
   "mimetype": "text/x-python",
   "name": "python",
   "nbconvert_exporter": "python",
   "pygments_lexer": "ipython2",
   "version": "2.7.13"
  }
 },
 "nbformat": 4,
 "nbformat_minor": 2
}
